{
 "cells": [
  {
   "cell_type": "markdown",
   "metadata": {},
   "source": [
    "# Hasse diagram\n",
    "\n",
    "Testing some ideas for how to convert a directed graph into a Hasse diagram.  Also want to make nice drawing methods "
   ]
  },
  {
   "cell_type": "code",
   "execution_count": 1,
   "metadata": {},
   "outputs": [],
   "source": [
    "import networkx as nx\n",
    "import numpy as np\n",
    "import matplotlib.pyplot as plt \n",
    "%matplotlib inline"
   ]
  },
  {
   "cell_type": "code",
   "execution_count": 21,
   "metadata": {},
   "outputs": [
    {
     "data": {
      "image/png": "[encoded data removed]",
      "text/plain": [
       "<Figure size 432x288 with 1 Axes>"
      ]
     },
     "metadata": {},
     "output_type": "display_data"
    }
   ],
   "source": [
    "H = nx.DiGraph()\n",
    "H.add_nodes_from('abcde')\n",
    "H.add_edges_from(('ab','ac','cd','ad','ce', 'ae', 'bd'))\n",
    "\n",
    "nx.draw_networkx(H)"
   ]
  },
  {
   "cell_type": "code",
   "execution_count": 22,
   "metadata": {},
   "outputs": [
    {
     "name": "stdout",
     "output_type": "stream",
     "text": [
      "['a', 'b', 'd']\n",
      "['a', 'c', 'd']\n",
      "['a', 'd']\n"
     ]
    }
   ],
   "source": [
    "for p in nx.all_simple_paths(H,'a','d'):\n",
    "    print(p)"
   ]
  },
  {
   "cell_type": "code",
   "execution_count": 23,
   "metadata": {},
   "outputs": [],
   "source": [
    "# get rid of unnecessary edges.... does order matter here? Is this the correct diagram?\n",
    "def returnHasse(H):\n",
    "    edges = list(H.edges)\n",
    "    for e in edges: \n",
    "        print('\\n',e)\n",
    "        paths = nx.all_simple_paths(H,*e)\n",
    "        for p in paths:\n",
    "            if not list(p) == list(e):\n",
    "                H.remove_edge(*e)\n",
    "                print('Deleted', e)\n",
    "                break\n",
    "    return H\n"
   ]
  },
  {
   "cell_type": "code",
   "execution_count": 24,
   "metadata": {},
   "outputs": [
    {
     "name": "stdout",
     "output_type": "stream",
     "text": [
      "\n",
      " ('a', 'b')\n",
      "\n",
      " ('a', 'c')\n",
      "\n",
      " ('a', 'd')\n",
      "Deleted ('a', 'd')\n",
      "\n",
      " ('a', 'e')\n",
      "Deleted ('a', 'e')\n",
      "\n",
      " ('b', 'd')\n",
      "\n",
      " ('c', 'd')\n",
      "\n",
      " ('c', 'e')\n"
     ]
    },
    {
     "data": {
      "image/png": "[encoded data removed]",
      "text/plain": [
       "<Figure size 432x288 with 1 Axes>"
      ]
     },
     "metadata": {},
     "output_type": "display_data"
    }
   ],
   "source": [
    "nx.draw_networkx(returnHasse(H))"
   ]
  },
  {
   "cell_type": "markdown",
   "metadata": {},
   "source": [
    "# Automatically determining level given the Hasse diagram "
   ]
  },
  {
   "cell_type": "code",
   "execution_count": 47,
   "metadata": {},
   "outputs": [
    {
     "data": {
      "text/plain": [
       "{'d': 0, 'c': 1, 'b': 1, 'a': 2}"
      ]
     },
     "execution_count": 47,
     "metadata": {},
     "output_type": "execute_result"
    }
   ],
   "source": [
    "A = nx.shortest_path_length(H,target = 'd')\n",
    "A"
   ]
  },
  {
   "cell_type": "code",
   "execution_count": 56,
   "metadata": {},
   "outputs": [
    {
     "data": {
      "text/plain": [
       "{'a': 2, 'b': 1, 'c': 1, 'd': 0, 'e': 0}"
      ]
     },
     "execution_count": 56,
     "metadata": {},
     "output_type": "execute_result"
    }
   ],
   "source": [
    "def getLevels(H):\n",
    "    # Returns a dictionary with level for each node \n",
    "    \n",
    "    \n",
    "    LongestPathDict = {v: 0 for v in H.nodes}\n",
    "#     print(LongestPathDict)\n",
    "\n",
    "\n",
    "    for v in H.nodes:\n",
    "        if H.out_degree(v) == 0:\n",
    "#             print(v, 'is a leaf')\n",
    "\n",
    "            # Get distances from all verts with a path to this leaf\n",
    "            A = nx.shortest_path_length(H,target = v)\n",
    "            for u in A.keys():\n",
    "                LongestPathDict[u] = max((LongestPathDict[u],A[u]))\n",
    "    return LongestPathDict\n",
    "\n",
    "        \n",
    "getLevels(H)\n",
    "        \n",
    "        "
   ]
  },
  {
   "cell_type": "code",
   "execution_count": 62,
   "metadata": {},
   "outputs": [],
   "source": [
    "def setLevels(H):\n",
    "    # Takes the levels computed, and stores them as a node attribute\n",
    "    levelDict = getLevels(H)\n",
    "    for v in H.nodes:\n",
    "        H.nodes[v]['level'] = levelDict[v]\n",
    "    return H\n"
   ]
  },
  {
   "cell_type": "code",
   "execution_count": 58,
   "metadata": {},
   "outputs": [],
   "source": [
    "H = setLevels(H)\n",
    "nx.get_node_attributes(H,'level')"
   ]
  },
  {
   "cell_type": "markdown",
   "metadata": {},
   "source": [
    "# Drawing based on levels"
   ]
  },
  {
   "cell_type": "code",
   "execution_count": 108,
   "metadata": {},
   "outputs": [
    {
     "data": {
      "text/plain": [
       "{'d': array([0., 0.]),\n",
       " 'e': array([1., 0.]),\n",
       " 'b': array([0., 1.]),\n",
       " 'c': array([1., 1.]),\n",
       " 'a': (0.5, 2)}"
      ]
     },
     "execution_count": 108,
     "metadata": {},
     "output_type": "execute_result"
    }
   ],
   "source": [
    "def findDrawingPositions(H):\n",
    "    \n",
    "    # y coordinate should be the level\n",
    "    pos_y_Dict = getLevels(H)\n",
    "    \n",
    "    # construct a dictionary to figure out how many nodes in each level\n",
    "    # levelList[ levelinteger ] = [list of vertices at that level]\n",
    "    levelDict = {i:[] for i in  set(pos_y_Dict.values()) }\n",
    "    for v in pos_y_Dict.keys():\n",
    "        levelDict[pos_y_Dict[v]].append(v)\n",
    "#     print(levelDict)\n",
    "    \n",
    "    posDict = {}\n",
    "    for level in levelDict.keys():\n",
    "        verts = levelDict[level]\n",
    "        numInLevel = len(verts)\n",
    "        if numInLevel == 1:\n",
    "            v = verts[0]\n",
    "            posDict[v] = (0.5, pos_y_Dict[v])\n",
    "        else:\n",
    "            for i,v in enumerate(verts):\n",
    "                posDict[v] = np.array([i/(numInLevel-1), pos_y_Dict[v]])\n",
    "#     print(posDict)\n",
    "    return posDict\n",
    "    \n",
    "findDrawingPositions(H)"
   ]
  },
  {
   "cell_type": "code",
   "execution_count": 113,
   "metadata": {},
   "outputs": [
    {
     "data": {
      "image/png": "[encoded data removed]",
      "text/plain": [
       "<Figure size 432x288 with 1 Axes>"
      ]
     },
     "metadata": {},
     "output_type": "display_data"
    }
   ],
   "source": [
    "pos = findDrawingPositions(H)\n",
    "nx.draw(H,pos , with_labels = True, node_color = 'purple', font_color = 'white', font_weight = 'bold')"
   ]
  },
  {
   "cell_type": "code",
   "execution_count": null,
   "metadata": {},
   "outputs": [],
   "source": []
  }
 ],
 "metadata": {
  "kernelspec": {
   "display_name": "Python 3",
   "language": "python",
   "name": "python3"
  },
  "language_info": {
   "codemirror_mode": {
    "name": "ipython",
    "version": 3
   },
   "file_extension": ".py",
   "mimetype": "text/x-python",
   "name": "python",
   "nbconvert_exporter": "python",
   "pygments_lexer": "ipython3",
   "version": "3.7.3"
  }
 },
 "nbformat": 4,
 "nbformat_minor": 4
}
