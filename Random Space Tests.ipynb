{
 "cells": [
  {
   "cell_type": "markdown",
   "id": "c144de14",
   "metadata": {},
   "source": [
    "Random Tests"
   ]
  },
  {
   "cell_type": "code",
   "execution_count": 33,
   "id": "c50ef505",
   "metadata": {},
   "outputs": [],
   "source": [
    "import RandomSpace as RS\n",
    "import FiniteSpaces_Class as FS\n",
    "import Brute_gcat as BG\n",
    "import networkx as nx\n",
    "import numpy as np"
   ]
  },
  {
   "cell_type": "code",
   "execution_count": 3,
   "id": "bbbaa051",
   "metadata": {},
   "outputs": [],
   "source": [
    "spaces = []\n",
    "n=10\n",
    "p = 0.3"
   ]
  },
  {
   "cell_type": "code",
   "execution_count": 86,
   "id": "1bcd0ca2",
   "metadata": {},
   "outputs": [],
   "source": [
    "while len(spaces)<10000:\n",
    "    temp = RS.randomSpace(n,p)\n",
    "    if temp.isConnected():\n",
    "        spaces.append(temp)"
   ]
  },
  {
   "cell_type": "code",
   "execution_count": 87,
   "id": "e5d25e98",
   "metadata": {},
   "outputs": [
    {
     "data": {
      "text/plain": [
       "10000"
      ]
     },
     "execution_count": 87,
     "metadata": {},
     "output_type": "execute_result"
    }
   ],
   "source": [
    "len(spaces)"
   ]
  },
  {
   "cell_type": "code",
   "execution_count": 46,
   "id": "904e74a5",
   "metadata": {},
   "outputs": [],
   "source": [
    "def probablyCat(space,num=10):\n",
    "    c = len(space.getMaxs())\n",
    "    for i in range(num):\n",
    "        c = min(c,len(space.shuffleCatCover(randomizeStyle=\"RANDOM\")))\n",
    "        \n",
    "    return c"
   ]
  },
  {
   "cell_type": "code",
   "execution_count": 88,
   "id": "4ec7d11c",
   "metadata": {},
   "outputs": [],
   "source": [
    "space_cats = []\n",
    "for s in spaces:\n",
    "    space_cats.append((s,probablyCat(s),BG.get_brute_gcat(s)))"
   ]
  },
  {
   "cell_type": "code",
   "execution_count": 91,
   "id": "0d54e7a8",
   "metadata": {},
   "outputs": [],
   "source": [
    "num_mismatches = 0\n",
    "mismatches = []\n",
    "for (a,b,c) in space_cats:\n",
    "    if b!=c:\n",
    "        num_mismatches += 1\n",
    "        mismatches.append(a)"
   ]
  },
  {
   "cell_type": "code",
   "execution_count": 94,
   "id": "462c9d1b",
   "metadata": {},
   "outputs": [
    {
     "data": {
      "image/png": "[encoded data removed]",
      "text/plain": [
       "<Figure size 432x288 with 1 Axes>"
      ]
     },
     "metadata": {},
     "output_type": "display_data"
    }
   ],
   "source": [
    "mismatches[1].drawHasse()"
   ]
  },
  {
   "cell_type": "code",
   "execution_count": 68,
   "id": "ab7365a7",
   "metadata": {},
   "outputs": [
    {
     "data": {
      "image/png": "[encoded data removed]",
      "text/plain": [
       "<Figure size 432x288 with 1 Axes>"
      ]
     },
     "metadata": {},
     "output_type": "display_data"
    }
   ],
   "source": [
    "mismatch.drawHasse()"
   ]
  },
  {
   "cell_type": "code",
   "execution_count": 60,
   "id": "afc54a8d",
   "metadata": {},
   "outputs": [],
   "source": [
    "for (a,b,c) in space_cats:\n",
    "    if b!=c:\n",
    "        mismatch = a\n",
    "        break"
   ]
  },
  {
   "cell_type": "code",
   "execution_count": 70,
   "id": "76a50ad9",
   "metadata": {},
   "outputs": [
    {
     "name": "stdout",
     "output_type": "stream",
     "text": [
      "Checking partitions of size 4 while gc = 4\n",
      "[[0], [9], [2], [3]]\n",
      "\tFound cover of size 4\n",
      "Checking partitions of size 3 while gc = 4\n",
      "[[0], [9, 2], [3]]\n",
      "\tFound cover of size 3\n",
      "Checking partitions of size 2 while gc = 3\n",
      "Manually going from 2 to 1\n",
      "Testing k = 1\n",
      "\tNo cover found of size 1 ... exiting.\n",
      "{2, 3}\n",
      "{0, 9}\n"
     ]
    }
   ],
   "source": [
    "BG.get_brute_gcat(mismatch, verbose=True)\n",
    "mismatchCatCover = mismatch.shuffleCatCover(randomizeStyle=\"Random\")\n",
    "for cc in mismatchCatCover:\n",
    "    print(cc.getMaxs())"
   ]
  },
  {
   "cell_type": "code",
   "execution_count": 72,
   "id": "c81cb150",
   "metadata": {},
   "outputs": [
    {
     "data": {
      "text/plain": [
       "1"
      ]
     },
     "execution_count": 72,
     "metadata": {},
     "output_type": "execute_result"
    }
   ],
   "source": [
    "num_mismatches"
   ]
  },
  {
   "cell_type": "code",
   "execution_count": 73,
   "id": "d70a4cc9",
   "metadata": {},
   "outputs": [
    {
     "data": {
      "text/plain": [
       "5000"
      ]
     },
     "execution_count": 73,
     "metadata": {},
     "output_type": "execute_result"
    }
   ],
   "source": [
    "len(space_cats)"
   ]
  },
  {
   "cell_type": "code",
   "execution_count": 95,
   "id": "8eede1f7",
   "metadata": {},
   "outputs": [],
   "source": [
    "ones = 0\n",
    "twos = 0\n",
    "threes = 0\n",
    "fours = 0\n",
    "fives = 0\n",
    "sixes = 0\n",
    "sevens = 0\n",
    "eights = 0\n",
    "for (a,b,c) in space_cats:\n",
    "    if b==1:\n",
    "        ones += 1\n",
    "    elif b==2:\n",
    "        twos += 1\n",
    "    elif b==3:\n",
    "        threes += 1\n",
    "    elif b==4:\n",
    "        fours += 1\n",
    "    elif b==5:\n",
    "        fives += 1\n",
    "    elif b==6:\n",
    "        sixes += 1\n",
    "    elif b==7:\n",
    "        sevens += 1\n",
    "    elif b==8:\n",
    "        eights += 1"
   ]
  },
  {
   "cell_type": "code",
   "execution_count": 96,
   "id": "fc84c70a",
   "metadata": {},
   "outputs": [
    {
     "data": {
      "text/plain": [
       "[6467, 2893, 594, 43, 3, 0, 0, 0]"
      ]
     },
     "execution_count": 96,
     "metadata": {},
     "output_type": "execute_result"
    }
   ],
   "source": [
    "cat_distribution = [ones, twos, threes, fours, fives, sixes, sevens, eights]\n",
    "cat_distribution"
   ]
  },
  {
   "cell_type": "code",
   "execution_count": 97,
   "id": "3947f0dd",
   "metadata": {},
   "outputs": [],
   "source": [
    "non_unique = 0\n",
    "for a1 in spaces:\n",
    "    for a2 in spaces:\n",
    "        if a1 != a2 and a1.Hasse==a2.Hasse:\n",
    "            non_unique += 1"
   ]
  },
  {
   "cell_type": "code",
   "execution_count": 98,
   "id": "e6142862",
   "metadata": {},
   "outputs": [
    {
     "data": {
      "text/plain": [
       "0"
      ]
     },
     "execution_count": 98,
     "metadata": {},
     "output_type": "execute_result"
    }
   ],
   "source": [
    "non_unique"
   ]
  },
  {
   "cell_type": "code",
   "execution_count": 118,
   "id": "a9bf76c2",
   "metadata": {},
   "outputs": [
    {
     "ename": "NameError",
     "evalue": "name 'bad_cat' is not defined",
     "output_type": "error",
     "traceback": [
      "\u001b[1;31m---------------------------------------------------------------------------\u001b[0m",
      "\u001b[1;31mNameError\u001b[0m                                 Traceback (most recent call last)",
      "\u001b[1;32m<ipython-input-118-e0ab14d24782>\u001b[0m in \u001b[0;36m<module>\u001b[1;34m\u001b[0m\n\u001b[0;32m      5\u001b[0m         \u001b[0mbad_cat\u001b[0m \u001b[1;33m=\u001b[0m \u001b[0mtemp\u001b[0m\u001b[1;33m\u001b[0m\u001b[1;33m\u001b[0m\u001b[0m\n\u001b[0;32m      6\u001b[0m         \u001b[1;32mbreak\u001b[0m\u001b[1;33m\u001b[0m\u001b[1;33m\u001b[0m\u001b[0m\n\u001b[1;32m----> 7\u001b[1;33m \u001b[0mbad_cat\u001b[0m\u001b[1;33m.\u001b[0m\u001b[0mdrawHasse\u001b[0m\u001b[1;33m(\u001b[0m\u001b[1;33m)\u001b[0m\u001b[1;33m\u001b[0m\u001b[1;33m\u001b[0m\u001b[0m\n\u001b[0m",
      "\u001b[1;31mNameError\u001b[0m: name 'bad_cat' is not defined"
     ]
    }
   ],
   "source": [
    "# Can we generate the worst space with a higher probability?\n",
    "for i in range(1000):\n",
    "    temp = RS.randomSpace(10,.355)\n",
    "    if BG.get_brute_gcat(temp)==8:\n",
    "        bad_cat = temp\n",
    "        break\n",
    "bad_cat.drawHasse()"
   ]
  },
  {
   "cell_type": "code",
   "execution_count": 151,
   "id": "18b5278c",
   "metadata": {},
   "outputs": [
    {
     "data": {
      "text/plain": [
       "5000"
      ]
     },
     "execution_count": 151,
     "metadata": {},
     "output_type": "execute_result"
    }
   ],
   "source": [
    "# Experiment: will 2*p of the spaces be contractible?\n",
    "cat_one = 0\n",
    "p=0.8\n",
    "for i in range(5000):\n",
    "    temp = RS.randomSpace(10,p)\n",
    "    if BG.get_brute_gcat(temp)==1:\n",
    "        cat_one+=1\n",
    "cat_one"
   ]
  },
  {
   "cell_type": "code",
   "execution_count": 152,
   "id": "37a2c023",
   "metadata": {},
   "outputs": [
    {
     "data": {
      "image/png": "[encoded data removed]",
      "text/plain": [
       "<Figure size 432x288 with 1 Axes>"
      ]
     },
     "metadata": {},
     "output_type": "display_data"
    }
   ],
   "source": [
    "temp.drawHasse()"
   ]
  },
  {
   "cell_type": "code",
   "execution_count": 155,
   "id": "b4bb6b24",
   "metadata": {},
   "outputs": [
    {
     "data": {
      "text/plain": [
       "1"
      ]
     },
     "execution_count": 155,
     "metadata": {},
     "output_type": "execute_result"
    },
    {
     "data": {
      "image/png": "[encoded data removed]",
      "text/plain": [
       "<Figure size 432x288 with 1 Axes>"
      ]
     },
     "metadata": {},
     "output_type": "display_data"
    }
   ],
   "source": [
    "space_cats[5][0].drawHasse()\n",
    "BG.get_brute_gcat(space_cats[5][0])"
   ]
  },
  {
   "cell_type": "code",
   "execution_count": null,
   "id": "430d2f12",
   "metadata": {},
   "outputs": [],
   "source": []
  }
 ],
 "metadata": {
  "kernelspec": {
   "display_name": "Python 3",
   "language": "python",
   "name": "python3"
  },
  "language_info": {
   "codemirror_mode": {
    "name": "ipython",
    "version": 3
   },
   "file_extension": ".py",
   "mimetype": "text/x-python",
   "name": "python",
   "nbconvert_exporter": "python",
   "pygments_lexer": "ipython3",
   "version": "3.7.6"
  }
 },
 "nbformat": 4,
 "nbformat_minor": 5
}
