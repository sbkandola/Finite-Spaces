{
 "cells": [
  {
   "cell_type": "markdown",
   "id": "89d5c002",
   "metadata": {},
   "source": [
    "Random Tests"
   ]
  },
  {
   "cell_type": "code",
   "execution_count": 33,
   "id": "0170efac",
   "metadata": {},
   "outputs": [],
   "source": [
    "import RandomSpace as RS\n",
    "import FiniteSpaces_Class as FS\n",
    "import Brute_gcat as BG\n",
    "import networkx as nx\n",
    "import numpy as np"
   ]
  },
  {
   "cell_type": "code",
   "execution_count": 3,
   "id": "30d65b5d",
   "metadata": {},
   "outputs": [],
   "source": [
    "spaces = []\n",
    "n=10\n",
    "p = 0.3"
   ]
  },
  {
   "cell_type": "code",
   "execution_count": 57,
   "id": "131f91cb",
   "metadata": {},
   "outputs": [],
   "source": [
    "while len(spaces)<5000:\n",
    "    temp = RS.randomSpace(n,p)\n",
    "    if temp.isConnected():\n",
    "        spaces.append(temp)"
   ]
  },
  {
   "cell_type": "code",
   "execution_count": 58,
   "id": "330ee6b9",
   "metadata": {},
   "outputs": [
    {
     "data": {
      "text/plain": [
       "5000"
      ]
     },
     "execution_count": 58,
     "metadata": {},
     "output_type": "execute_result"
    }
   ],
   "source": [
    "len(spaces)"
   ]
  },
  {
   "cell_type": "code",
   "execution_count": 46,
   "id": "fc7e0371",
   "metadata": {},
   "outputs": [],
   "source": [
    "def probablyCat(space,num=10):\n",
    "    c = len(space.getMaxs())\n",
    "    for i in range(num):\n",
    "        c = min(c,len(space.shuffleCatCover(randomizeStyle=\"RANDOM\")))\n",
    "        \n",
    "    return c"
   ]
  },
  {
   "cell_type": "code",
   "execution_count": 47,
   "id": "f94cec47",
   "metadata": {},
   "outputs": [
    {
     "data": {
      "text/plain": [
       "1"
      ]
     },
     "execution_count": 47,
     "metadata": {},
     "output_type": "execute_result"
    }
   ],
   "source": [
    "probablyCat(spaces[10])"
   ]
  },
  {
   "cell_type": "code",
   "execution_count": 68,
   "id": "8c5ab7a1",
   "metadata": {},
   "outputs": [
    {
     "data": {
      "image/png": "[encoded data removed]",
      "text/plain": [
       "<Figure size 432x288 with 1 Axes>"
      ]
     },
     "metadata": {},
     "output_type": "display_data"
    }
   ],
   "source": [
    "mismatch.drawHasse()"
   ]
  },
  {
   "cell_type": "code",
   "execution_count": 60,
   "id": "fa4643c3",
   "metadata": {},
   "outputs": [],
   "source": [
    "for (a,b,c) in space_cats:\n",
    "    if b!=c:\n",
    "        mismatch = a\n",
    "        break"
   ]
  },
  {
   "cell_type": "code",
   "execution_count": 69,
   "id": "ca9f425c",
   "metadata": {},
   "outputs": [
    {
     "name": "stdout",
     "output_type": "stream",
     "text": [
      "{0, 9}\n",
      "{2, 3}\n"
     ]
    }
   ],
   "source": [
    "BG.get_brute_gcat(mismatch)\n",
    "mismatchCatCover = mismatch.shuffleCatCover(randomizeStyle=\"Random\")\n",
    "for cc in mismatchCatCover:\n",
    "    print(cc.getMaxs())"
   ]
  },
  {
   "cell_type": "code",
   "execution_count": 59,
   "id": "f3a49be1",
   "metadata": {},
   "outputs": [],
   "source": [
    "space_cats = []\n",
    "for s in spaces:\n",
    "    space_cats.append((s,probablyCat(s),BG.get_brute_gcat(s)))"
   ]
  },
  {
   "cell_type": "code",
   "execution_count": 41,
   "id": "5a81df28",
   "metadata": {},
   "outputs": [],
   "source": [
    "spaces.remove(spaces[6])"
   ]
  },
  {
   "cell_type": "code",
   "execution_count": null,
   "id": "6f93ded1",
   "metadata": {},
   "outputs": [],
   "source": []
  }
 ],
 "metadata": {
  "kernelspec": {
   "display_name": "Python 3",
   "language": "python",
   "name": "python3"
  },
  "language_info": {
   "codemirror_mode": {
    "name": "ipython",
    "version": 3
   },
   "file_extension": ".py",
   "mimetype": "text/x-python",
   "name": "python",
   "nbconvert_exporter": "python",
   "pygments_lexer": "ipython3",
   "version": "3.7.6"
  }
 },
 "nbformat": 4,
 "nbformat_minor": 5
}
