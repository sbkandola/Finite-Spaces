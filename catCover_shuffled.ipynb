{
 "cells": [
  {
   "cell_type": "code",
   "execution_count": 5,
   "metadata": {},
   "outputs": [],
   "source": [
    "import FiniteSpace_Examples as FE\n",
    "import FiniteSpaces_Class as FS\n",
    "import Brute_gcat as B"
   ]
  },
  {
   "cell_type": "code",
   "execution_count": 6,
   "metadata": {},
   "outputs": [
    {
     "name": "stdout",
     "output_type": "stream",
     "text": [
      "Getting Hasse of {'b8', 'c2', 'b6', 'b5', 'b1', 'b4', 'c1', 'a2', 'b7', 'a4', 'c3', 'b2', 'c4', 'b3', 'a3', 'a1'}\n"
     ]
    },
    {
     "data": {
      "text/plain": [
       "100"
      ]
     },
     "execution_count": 6,
     "metadata": {},
     "output_type": "execute_result"
    }
   ],
   "source": [
    "K = FE.Build_Klein()\n",
    "catK = list()\n",
    "gcatK = B.get_brute_gcat(K)\n",
    "for i in range(100):\n",
    "    catK.append(len(K.shuffleCatCover()))\n",
    "catK.count(gcatK)"
   ]
  },
  {
   "cell_type": "code",
   "execution_count": 15,
   "metadata": {},
   "outputs": [
    {
     "name": "stdout",
     "output_type": "stream",
     "text": [
      "Getting Hasse of {'a', 'd', 'c', 'b'}\n"
     ]
    },
    {
     "data": {
      "text/plain": [
       "100"
      ]
     },
     "execution_count": 15,
     "metadata": {},
     "output_type": "execute_result"
    }
   ],
   "source": [
    "S = FE.Build_MinCircle()\n",
    "catS = list()\n",
    "gcatS = B.get_brute_gcat(S)\n",
    "for i in range(100):\n",
    "    catS.append(len(S.shuffleCatCover()))\n",
    "catS.count(gcatS)"
   ]
  },
  {
   "cell_type": "code",
   "execution_count": 7,
   "metadata": {},
   "outputs": [
    {
     "name": "stdout",
     "output_type": "stream",
     "text": [
      "Getting Hasse of {'a', 'd', 'c', 'b'}\n"
     ]
    },
    {
     "data": {
      "text/plain": [
       "100"
      ]
     },
     "execution_count": 7,
     "metadata": {},
     "output_type": "execute_result"
    }
   ],
   "source": [
    "T4 = FE.Build_MinTorus()\n",
    "catT4 = list()\n",
    "gcatT4 = B.get_brute_gcat(T4)\n",
    "for i in range(100):\n",
    "    catT4.append(len(T4.shuffleCatCover()))\n",
    "catK.count(gcatT4)"
   ]
  },
  {
   "cell_type": "code",
   "execution_count": 16,
   "metadata": {},
   "outputs": [
    {
     "name": "stdout",
     "output_type": "stream",
     "text": [
      "Getting Hasse of {'x1', 'y0', 'y2', 'x0', 'x2', 'y1'}\n"
     ]
    },
    {
     "data": {
      "text/plain": [
       "100"
      ]
     },
     "execution_count": 16,
     "metadata": {},
     "output_type": "execute_result"
    }
   ],
   "source": [
    "S3 = FE.Build_SixCircle()\n",
    "catS3 = list()\n",
    "gcatS3 = B.get_brute_gcat(S3)\n",
    "for i in range(100):\n",
    "    catS3.append(len(S3.shuffleCatCover()))\n",
    "catS3.count(gcatS3)"
   ]
  },
  {
   "cell_type": "code",
   "execution_count": 8,
   "metadata": {},
   "outputs": [
    {
     "name": "stdout",
     "output_type": "stream",
     "text": [
      "Getting Hasse of {'x1', 'y0', 'y2', 'x0', 'x2', 'y1'}\n"
     ]
    },
    {
     "data": {
      "text/plain": [
       "74"
      ]
     },
     "execution_count": 8,
     "metadata": {},
     "output_type": "execute_result"
    }
   ],
   "source": [
    "T9 = FE.Build_SixTorus()\n",
    "catT9 = list()\n",
    "gcatT9 = B.get_brute_gcat(T9)\n",
    "for i in range(100):\n",
    "    catT9.append(len(T9.shuffleCatCover()))\n",
    "catT9.count(gcatT9)"
   ]
  },
  {
   "cell_type": "code",
   "execution_count": 18,
   "metadata": {},
   "outputs": [
    {
     "name": "stdout",
     "output_type": "stream",
     "text": [
      "Getting Hasse of {'x1', 'x3', 'y0', 'y4', 'y2', 'x0', 'x2', 'y1', 'y3', 'x4'}\n"
     ]
    },
    {
     "data": {
      "text/plain": [
       "100"
      ]
     },
     "execution_count": 18,
     "metadata": {},
     "output_type": "execute_result"
    }
   ],
   "source": [
    "S5 = FE.Build_TenCircle()\n",
    "catS5 = list()\n",
    "gcatS5 = B.get_brute_gcat(S5)\n",
    "for i in range(100):\n",
    "    catS5.append(len(S5.shuffleCatCover()))\n",
    "catS5.count(gcatS5)"
   ]
  },
  {
   "cell_type": "code",
   "execution_count": 17,
   "metadata": {},
   "outputs": [
    {
     "name": "stdout",
     "output_type": "stream",
     "text": [
      "Getting Hasse of {'x1', 'x3', 'y0', 'y4', 'y2', 'x0', 'x2', 'y1', 'y3', 'x4'}\n"
     ]
    },
    {
     "data": {
      "text/plain": [
       "100"
      ]
     },
     "execution_count": 17,
     "metadata": {},
     "output_type": "execute_result"
    }
   ],
   "source": [
    "T25 = FE.Build_TenTorus()\n",
    "catT25 = list()\n",
    "# This next line might run forever!\n",
    "gcatT25 = B.get_brute_gcat(T25)\n",
    "for i in range(100):\n",
    "    catT25.append(len(T25.shuffleCatCover()))\n",
    "catT25.count(gcatT25)"
   ]
  },
  {
   "cell_type": "code",
   "execution_count": null,
   "metadata": {},
   "outputs": [],
   "source": []
  }
 ],
 "metadata": {
  "kernelspec": {
   "display_name": "Python 3",
   "language": "python",
   "name": "python3"
  },
  "language_info": {
   "codemirror_mode": {
    "name": "ipython",
    "version": 3
   },
   "file_extension": ".py",
   "mimetype": "text/x-python",
   "name": "python",
   "nbconvert_exporter": "python",
   "pygments_lexer": "ipython3",
   "version": "3.7.6"
  }
 },
 "nbformat": 4,
 "nbformat_minor": 4
}
