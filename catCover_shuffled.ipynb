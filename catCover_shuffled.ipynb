{
 "cells": [
  {
   "cell_type": "code",
   "execution_count": 49,
   "metadata": {},
   "outputs": [],
   "source": [
    "import FiniteSpace_Examples as FE\n",
    "import FiniteSpaces_Class as FS\n",
    "import Brute_gcat as B\n",
    "\n",
    "from itertools import combinations\n",
    "from imp import reload"
   ]
  },
  {
   "cell_type": "code",
   "execution_count": 56,
   "metadata": {},
   "outputs": [
    {
     "data": {
      "text/plain": [
       "<module 'Brute_gcat' from 'F:\\\\Dropbox\\\\Math\\\\ResearchProjects\\\\FiniteTopology\\\\Code\\\\Finite-Spaces\\\\Brute_gcat.py'>"
      ]
     },
     "execution_count": 56,
     "metadata": {},
     "output_type": "execute_result"
    }
   ],
   "source": [
    "reload(B)"
   ]
  },
  {
   "cell_type": "code",
   "execution_count": 2,
   "metadata": {},
   "outputs": [],
   "source": [
    "def printCount(list,percent = True):\n",
    "    entries = set(list)\n",
    "    n = len(list)\n",
    "    for e in entries:\n",
    "        print(e,': ', list.count(e)/n * 100,\"%\")"
   ]
  },
  {
   "cell_type": "markdown",
   "metadata": {},
   "source": [
    "# Liz playing with partition generator"
   ]
  },
  {
   "cell_type": "code",
   "execution_count": 57,
   "metadata": {},
   "outputs": [
    {
     "name": "stdout",
     "output_type": "stream",
     "text": [
      "Getting Hasse of {'b4', 'a1', 'b6', 'b5', 'a4', 'a2', 'c3', 'a3', 'c2', 'b1', 'c1', 'b7', 'b3', 'b8', 'b2', 'c4'}\n",
      "Trying covers of size 4\n",
      "\tFound cover of size 4\n",
      "Trying covers of size 3\n",
      "No cover found of size 3 so min size cover is 4... exiting.\n"
     ]
    },
    {
     "data": {
      "text/plain": [
       "4"
      ]
     },
     "execution_count": 57,
     "metadata": {},
     "output_type": "execute_result"
    }
   ],
   "source": [
    "K = FE.Build_Klein()\n",
    "B.get_brute_gcat(K, verbose = True)"
   ]
  },
  {
   "cell_type": "code",
   "execution_count": 14,
   "metadata": {},
   "outputs": [
    {
     "data": {
      "text/plain": [
       "set"
      ]
     },
     "execution_count": 14,
     "metadata": {},
     "output_type": "execute_result"
    }
   ],
   "source": [
    "maxs = K.getMaxs()\n",
    "type(maxs)"
   ]
  },
  {
   "cell_type": "code",
   "execution_count": 9,
   "metadata": {},
   "outputs": [],
   "source": [
    "gc = len(maxs)"
   ]
  },
  {
   "cell_type": "code",
   "execution_count": 21,
   "metadata": {},
   "outputs": [],
   "source": [
    "\n",
    "def partition(items, k):\n",
    "\n",
    "    def split(indices):\n",
    "        i=0\n",
    "        for j in indices:\n",
    "            yield items[i:j]\n",
    "            i = j\n",
    "        yield items[i:]\n",
    "\n",
    "    for indices in combinations(range(1, len(items)), k-1):\n",
    "        yield list(split(indices))"
   ]
  },
  {
   "cell_type": "code",
   "execution_count": 22,
   "metadata": {},
   "outputs": [
    {
     "name": "stdout",
     "output_type": "stream",
     "text": [
      "[['a1'], ['a2'], ['a4', 'a3']]\n",
      "[['a1'], ['a2', 'a4'], ['a3']]\n",
      "[['a1', 'a2'], ['a4'], ['a3']]\n"
     ]
    }
   ],
   "source": [
    "for p in partition(list(maxs),3):\n",
    "    print(p)"
   ]
  },
  {
   "cell_type": "code",
   "execution_count": 48,
   "metadata": {},
   "outputs": [
    {
     "name": "stdout",
     "output_type": "stream",
     "text": [
      "Trying covers of size 4\n",
      "\tFound cover of size 4\n",
      "Trying covers of size 3\n",
      "No cover found of size 3 so min size cover is 4... exiting.\n"
     ]
    },
    {
     "data": {
      "text/plain": [
       "4"
      ]
     },
     "execution_count": 48,
     "metadata": {},
     "output_type": "execute_result"
    }
   ],
   "source": [
    "def get_brute_gcat(space, verbose = False): \n",
    "    maxs = space.getMaxs()\n",
    "    gc = len(maxs)\n",
    "\n",
    "    for k in range(gc, 0, -1): # Search going down from a cover of size gc\n",
    "        if verbose:\n",
    "            print(\"Trying covers of size\",k)\n",
    "\n",
    "        # Start checking for a partition of size $k$ that is a valid cover \n",
    "        for part in partition(list(maxs), k):\n",
    "            if B.is_gcat_cover(space,part):\n",
    "                # If you're in here, you have a valid cover. \n",
    "                gc = len(part)\n",
    "                if verbose:\n",
    "                    print('\\tFound cover of size', gc)\n",
    "                k += 1\n",
    "                break \n",
    "            # If you didn't break, you didn't find a cover \n",
    "            if verbose:\n",
    "                print('No cover found of size', k,\"so min size cover is\",str(gc)+\"... exiting.\")\n",
    "            return gc\n",
    "\n",
    "get_brute_gcat(K,True)"
   ]
  },
  {
   "cell_type": "code",
   "execution_count": 36,
   "metadata": {},
   "outputs": [
    {
     "name": "stdout",
     "output_type": "stream",
     "text": [
      "[['a1', 'a2', 'a4', 'a3']]\n"
     ]
    }
   ],
   "source": [
    "for p in partition(list(maxs), 1):\n",
    "    print(p)"
   ]
  },
  {
   "cell_type": "code",
   "execution_count": 29,
   "metadata": {},
   "outputs": [
    {
     "name": "stdout",
     "output_type": "stream",
     "text": [
      "4\n"
     ]
    }
   ],
   "source": [
    "print(gc)\n"
   ]
  },
  {
   "cell_type": "markdown",
   "metadata": {},
   "source": [
    "# Klein Bottle"
   ]
  },
  {
   "cell_type": "code",
   "execution_count": 60,
   "metadata": {},
   "outputs": [
    {
     "name": "stdout",
     "output_type": "stream",
     "text": [
      "Getting Hasse of {'b4', 'a1', 'b6', 'b5', 'a4', 'a2', 'c3', 'a3', 'c2', 'b1', 'c1', 'b7', 'b3', 'b8', 'b2', 'c4'}\n",
      "Trying covers of size 4\n",
      "\tFound cover of size 4\n",
      "Trying covers of size 3\n",
      "No cover found of size 3 so min size cover is 4... exiting.\n",
      "Wall time: 1.24 s\n"
     ]
    }
   ],
   "source": [
    "%%time\n",
    "\n",
    "K = FE.Build_Klein()\n",
    "catK = list()\n",
    "gcatK = B.get_brute_gcat(K, verbose = True)\n",
    "for i in range(100):\n",
    "    catK.append(len(K.shuffleCatCover()))\n"
   ]
  },
  {
   "cell_type": "code",
   "execution_count": 62,
   "metadata": {},
   "outputs": [
    {
     "name": "stdout",
     "output_type": "stream",
     "text": [
      "4 :  100.0 %\n"
     ]
    }
   ],
   "source": [
    "catK.count(gcatK)\n",
    "printCount(catK)"
   ]
  },
  {
   "cell_type": "markdown",
   "metadata": {},
   "source": [
    "# Klein Bottle Squared"
   ]
  },
  {
   "cell_type": "code",
   "execution_count": 68,
   "metadata": {},
   "outputs": [
    {
     "name": "stdout",
     "output_type": "stream",
     "text": [
      "Getting Hasse of {'b4', 'a1', 'b6', 'b5', 'a4', 'a2', 'c3', 'a3', 'c2', 'b1', 'c1', 'b7', 'b3', 'b8', 'b2', 'c4'}\n",
      "Trying covers of size 16\n",
      "\tFound cover of size 16\n",
      "Trying covers of size 15\n",
      "No cover found of size 15 so min size cover is 16... exiting.\n",
      "Wall time: 3.99 s\n"
     ]
    }
   ],
   "source": [
    "%%time\n",
    "\n",
    "K2 = FE.Build_KleinSquared()\n",
    "catK2 = list()\n",
    "gcatK2 = B.get_brute_gcat(K2, verbose = True)\n",
    "# for i in range(100):\n",
    "#     catK2.append(len(K2.shuffleCatCover()))"
   ]
  },
  {
   "cell_type": "code",
   "execution_count": 65,
   "metadata": {},
   "outputs": [
    {
     "data": {
      "text/plain": [
       "16"
      ]
     },
     "execution_count": 65,
     "metadata": {},
     "output_type": "execute_result"
    }
   ],
   "source": [
    "gcatK2"
   ]
  },
  {
   "cell_type": "code",
   "execution_count": 66,
   "metadata": {},
   "outputs": [
    {
     "name": "stdout",
     "output_type": "stream",
     "text": [
      "16 :  100.0 %\n"
     ]
    }
   ],
   "source": [
    "catK2.count(gcatK2)\n",
    "printCount(catK2)"
   ]
  },
  {
   "cell_type": "markdown",
   "metadata": {},
   "source": [
    "# Minimal Circle"
   ]
  },
  {
   "cell_type": "code",
   "execution_count": 70,
   "metadata": {},
   "outputs": [
    {
     "name": "stdout",
     "output_type": "stream",
     "text": [
      "Getting Hasse of {'c', 'd', 'a', 'b'}\n",
      "Trying covers of size 2\n",
      "\tFound cover of size 2\n",
      "Trying covers of size 1\n",
      "No cover found of size 1 so min size cover is 2... exiting.\n",
      "Wall time: 998 µs\n"
     ]
    }
   ],
   "source": [
    "%%time \n",
    "\n",
    "S = FE.Build_MinCircle()\n",
    "catS = list()\n",
    "gcatS = B.get_brute_gcat(S, verbose = True)\n",
    "# for i in range(100):\n",
    "#     catS.append(len(S.shuffleCatCover()))\n"
   ]
  },
  {
   "cell_type": "code",
   "execution_count": null,
   "metadata": {},
   "outputs": [],
   "source": [
    "catS.count(gcatS)\n",
    "printCount(catK)"
   ]
  },
  {
   "cell_type": "markdown",
   "metadata": {},
   "source": [
    "# Minimal Torus"
   ]
  },
  {
   "cell_type": "code",
   "execution_count": 71,
   "metadata": {},
   "outputs": [
    {
     "name": "stdout",
     "output_type": "stream",
     "text": [
      "Getting Hasse of {'c', 'd', 'a', 'b'}\n",
      "Trying covers of size 4\n",
      "\tFound cover of size 4\n",
      "Trying covers of size 3\n",
      "No cover found of size 3 so min size cover is 4... exiting.\n",
      "Wall time: 14.8 ms\n"
     ]
    }
   ],
   "source": [
    "%%time\n",
    "\n",
    "T4 = FE.Build_MinTorus()\n",
    "catT4 = list()\n",
    "gcatT4 = B.get_brute_gcat(T4, verbose = True)\n",
    "# for i in range(100):\n",
    "#     catT4.append(len(T4.shuffleCatCover()))\n"
   ]
  },
  {
   "cell_type": "code",
   "execution_count": null,
   "metadata": {},
   "outputs": [],
   "source": [
    "print(catT4.count(gcatT4))\n",
    "printCount(catT4)"
   ]
  },
  {
   "cell_type": "markdown",
   "metadata": {},
   "source": [
    "# Six Circle"
   ]
  },
  {
   "cell_type": "code",
   "execution_count": 72,
   "metadata": {},
   "outputs": [
    {
     "name": "stdout",
     "output_type": "stream",
     "text": [
      "Getting Hasse of {'x2', 'y1', 'x1', 'y2', 'y0', 'x0'}\n",
      "Trying covers of size 3\n",
      "\tFound cover of size 3\n",
      "Trying covers of size 2\n",
      "\tFound cover of size 2\n",
      "Trying covers of size 1\n",
      "No cover found of size 1 so min size cover is 2... exiting.\n",
      "Wall time: 3 ms\n"
     ]
    }
   ],
   "source": [
    "%%time\n",
    "S3 = FE.Build_SixCircle()\n",
    "catS3 = list()\n",
    "gcatS3 = B.get_brute_gcat(S3, verbose = True)\n",
    "# for i in range(100):\n",
    "#     catS3.append(len(S3.shuffleCatCover()))\n",
    "# catS3.count(gcatS3)"
   ]
  },
  {
   "cell_type": "markdown",
   "metadata": {},
   "source": [
    "# Six Torus "
   ]
  },
  {
   "cell_type": "code",
   "execution_count": 73,
   "metadata": {},
   "outputs": [
    {
     "name": "stdout",
     "output_type": "stream",
     "text": [
      "Getting Hasse of {'x2', 'y1', 'x1', 'y2', 'y0', 'x0'}\n",
      "Trying covers of size 9\n",
      "\tFound cover of size 9\n",
      "Trying covers of size 8\n",
      "\tFound cover of size 8\n",
      "Trying covers of size 7\n",
      "No cover found of size 7 so min size cover is 8... exiting.\n",
      "Wall time: 49.7 ms\n"
     ]
    }
   ],
   "source": [
    "%%time\n",
    "T9 = FE.Build_SixTorus()\n",
    "catT9 = list()\n",
    "gcatT9 = B.get_brute_gcat(T9, verbose = True)\n",
    "# for i in range(100):\n",
    "#     catT9.append(len(T9.shuffleCatCover()))\n"
   ]
  },
  {
   "cell_type": "code",
   "execution_count": null,
   "metadata": {},
   "outputs": [],
   "source": [
    "print(catT9.count(gcatT9))\n",
    "printCount(catT9)"
   ]
  },
  {
   "cell_type": "markdown",
   "metadata": {},
   "source": [
    "# Ten Circle"
   ]
  },
  {
   "cell_type": "code",
   "execution_count": 74,
   "metadata": {},
   "outputs": [
    {
     "name": "stdout",
     "output_type": "stream",
     "text": [
      "Getting Hasse of {'x2', 'y4', 'x3', 'y1', 'y3', 'x1', 'x4', 'y2', 'y0', 'x0'}\n",
      "Trying covers of size 5\n",
      "\tFound cover of size 5\n",
      "Trying covers of size 4\n",
      "No cover found of size 4 so min size cover is 5... exiting.\n",
      "Wall time: 2.02 ms\n"
     ]
    }
   ],
   "source": [
    "%%time\n",
    "\n",
    "S5 = FE.Build_TenCircle()\n",
    "catS5 = list()\n",
    "gcatS5 = B.get_brute_gcat(S5, verbose = True)\n",
    "# for i in range(100):\n",
    "#     catS5.append(len(S5.shuffleCatCover()))\n"
   ]
  },
  {
   "cell_type": "code",
   "execution_count": null,
   "metadata": {},
   "outputs": [],
   "source": [
    "print(catS5.count(gcatS5))\n",
    "printCount(catS5)"
   ]
  },
  {
   "cell_type": "markdown",
   "metadata": {},
   "source": [
    "# Ten torus"
   ]
  },
  {
   "cell_type": "code",
   "execution_count": 75,
   "metadata": {},
   "outputs": [
    {
     "name": "stdout",
     "output_type": "stream",
     "text": [
      "Getting Hasse of {'x2', 'y4', 'x3', 'y1', 'y3', 'x1', 'x4', 'y2', 'y0', 'x0'}\n",
      "Wall time: 17.6 ms\n"
     ]
    }
   ],
   "source": [
    "%%time\n",
    "\n",
    "T25 = FE.Build_TenTorus()\n",
    "\n",
    "catT25 = list()\n"
   ]
  },
  {
   "cell_type": "code",
   "execution_count": null,
   "metadata": {},
   "outputs": [],
   "source": [
    "%%time \n",
    "for i in range(100):\n",
    "    print(i)\n",
    "    catT25.append(len(T25.shuffleCatCover()))"
   ]
  },
  {
   "cell_type": "code",
   "execution_count": null,
   "metadata": {},
   "outputs": [],
   "source": [
    "printCount(catT25)"
   ]
  },
  {
   "cell_type": "code",
   "execution_count": 76,
   "metadata": {},
   "outputs": [
    {
     "name": "stdout",
     "output_type": "stream",
     "text": [
      "Trying covers of size 25\n",
      "\tFound cover of size 25\n",
      "Trying covers of size 24\n",
      "No cover found of size 24 so min size cover is 25... exiting.\n",
      "Wall time: 88.4 ms\n"
     ]
    }
   ],
   "source": [
    "%%time\n",
    "\n",
    "# This next line might run forever!\n",
    "\n",
    "gcatT25 = B.get_brute_gcat(T25, verbose = True)"
   ]
  },
  {
   "cell_type": "code",
   "execution_count": null,
   "metadata": {},
   "outputs": [],
   "source": [
    "catT25.count(gcatT25)\n"
   ]
  },
  {
   "cell_type": "code",
   "execution_count": null,
   "metadata": {},
   "outputs": [],
   "source": []
  }
 ],
 "metadata": {
  "kernelspec": {
   "display_name": "Python 3",
   "language": "python",
   "name": "python3"
  },
  "language_info": {
   "codemirror_mode": {
    "name": "ipython",
    "version": 3
   },
   "file_extension": ".py",
   "mimetype": "text/x-python",
   "name": "python",
   "nbconvert_exporter": "python",
   "pygments_lexer": "ipython3",
   "version": "3.7.6"
  }
 },
 "nbformat": 4,
 "nbformat_minor": 4
}
