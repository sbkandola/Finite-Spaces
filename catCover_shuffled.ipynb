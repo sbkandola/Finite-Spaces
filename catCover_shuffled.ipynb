{
 "cells": [
  {
   "cell_type": "code",
   "execution_count": 129,
   "metadata": {},
   "outputs": [],
   "source": [
    "import FiniteSpace_Examples as FE\n",
    "import FiniteSpaces_Class as FS\n",
    "import Brute_gcat as B\n",
    "\n",
    "from itertools import combinations\n",
    "from imp import reload\n",
    "import numpy as np\n",
    "from IPython.display import display, clear_output\n",
    "import networkx as nx\n",
    "import operator\n",
    "import random"
   ]
  },
  {
   "cell_type": "code",
   "execution_count": 161,
   "metadata": {},
   "outputs": [
    {
     "data": {
      "text/plain": [
       "<module 'FiniteSpaces_Class' from 'F:\\\\Dropbox\\\\Math\\\\ResearchProjects\\\\FiniteTopology\\\\Code\\\\Finite-Spaces\\\\FiniteSpaces_Class.py'>"
      ]
     },
     "execution_count": 161,
     "metadata": {},
     "output_type": "execute_result"
    }
   ],
   "source": [
    "reload(B)\n",
    "reload(FS)\n",
    "reload(FE)\n",
    "reload(FE.FS)"
   ]
  },
  {
   "cell_type": "code",
   "execution_count": 2,
   "metadata": {},
   "outputs": [],
   "source": [
    "def printCount(list,percent = True):\n",
    "    entries = set(list)\n",
    "    n = len(list)\n",
    "    for e in entries:\n",
    "        print(e,': ', list.count(e)/n * 100,\"%\")"
   ]
  },
  {
   "cell_type": "markdown",
   "metadata": {},
   "source": [
    "# Liz playing with partition generator"
   ]
  },
  {
   "cell_type": "code",
   "execution_count": 57,
   "metadata": {},
   "outputs": [
    {
     "name": "stdout",
     "output_type": "stream",
     "text": [
      "Getting Hasse of {'b4', 'a1', 'b6', 'b5', 'a4', 'a2', 'c3', 'a3', 'c2', 'b1', 'c1', 'b7', 'b3', 'b8', 'b2', 'c4'}\n",
      "Trying covers of size 4\n",
      "\tFound cover of size 4\n",
      "Trying covers of size 3\n",
      "No cover found of size 3 so min size cover is 4... exiting.\n"
     ]
    },
    {
     "data": {
      "text/plain": [
       "4"
      ]
     },
     "execution_count": 57,
     "metadata": {},
     "output_type": "execute_result"
    }
   ],
   "source": [
    "K = FE.Build_Klein()\n",
    "B.get_brute_gcat(K, verbose = True)"
   ]
  },
  {
   "cell_type": "code",
   "execution_count": 14,
   "metadata": {},
   "outputs": [
    {
     "data": {
      "text/plain": [
       "set"
      ]
     },
     "execution_count": 14,
     "metadata": {},
     "output_type": "execute_result"
    }
   ],
   "source": [
    "maxs = K.getMaxs()\n",
    "type(maxs)"
   ]
  },
  {
   "cell_type": "code",
   "execution_count": 9,
   "metadata": {},
   "outputs": [],
   "source": [
    "gc = len(maxs)"
   ]
  },
  {
   "cell_type": "code",
   "execution_count": 21,
   "metadata": {},
   "outputs": [],
   "source": [
    "\n",
    "def partition(items, k):\n",
    "\n",
    "    def split(indices):\n",
    "        i=0\n",
    "        for j in indices:\n",
    "            yield items[i:j]\n",
    "            i = j\n",
    "        yield items[i:]\n",
    "\n",
    "    for indices in combinations(range(1, len(items)), k-1):\n",
    "        yield list(split(indices))"
   ]
  },
  {
   "cell_type": "code",
   "execution_count": 22,
   "metadata": {},
   "outputs": [
    {
     "name": "stdout",
     "output_type": "stream",
     "text": [
      "[['a1'], ['a2'], ['a4', 'a3']]\n",
      "[['a1'], ['a2', 'a4'], ['a3']]\n",
      "[['a1', 'a2'], ['a4'], ['a3']]\n"
     ]
    }
   ],
   "source": [
    "for p in partition(list(maxs),3):\n",
    "    print(p)"
   ]
  },
  {
   "cell_type": "code",
   "execution_count": 48,
   "metadata": {},
   "outputs": [
    {
     "name": "stdout",
     "output_type": "stream",
     "text": [
      "Trying covers of size 4\n",
      "\tFound cover of size 4\n",
      "Trying covers of size 3\n",
      "No cover found of size 3 so min size cover is 4... exiting.\n"
     ]
    },
    {
     "data": {
      "text/plain": [
       "4"
      ]
     },
     "execution_count": 48,
     "metadata": {},
     "output_type": "execute_result"
    }
   ],
   "source": [
    "def get_brute_gcat(space, verbose = False): \n",
    "    maxs = space.getMaxs()\n",
    "    gc = len(maxs)\n",
    "\n",
    "    for k in range(gc, 0, -1): # Search going down from a cover of size gc\n",
    "        if verbose:\n",
    "            print(\"Trying covers of size\",k)\n",
    "\n",
    "        # Start checking for a partition of size $k$ that is a valid cover \n",
    "        for part in partition(list(maxs), k):\n",
    "            if B.is_gcat_cover(space,part):\n",
    "                # If you're in here, you have a valid cover. \n",
    "                gc = len(part)\n",
    "                if verbose:\n",
    "                    print('\\tFound cover of size', gc)\n",
    "                k += 1\n",
    "                break \n",
    "            # If you didn't break, you didn't find a cover \n",
    "            if verbose:\n",
    "                print('No cover found of size', k,\"so min size cover is\",str(gc)+\"... exiting.\")\n",
    "            return gc\n",
    "\n",
    "get_brute_gcat(K,True)"
   ]
  },
  {
   "cell_type": "code",
   "execution_count": 36,
   "metadata": {},
   "outputs": [
    {
     "name": "stdout",
     "output_type": "stream",
     "text": [
      "[['a1', 'a2', 'a4', 'a3']]\n"
     ]
    }
   ],
   "source": [
    "for p in partition(list(maxs), 1):\n",
    "    print(p)"
   ]
  },
  {
   "cell_type": "code",
   "execution_count": 29,
   "metadata": {},
   "outputs": [
    {
     "name": "stdout",
     "output_type": "stream",
     "text": [
      "4\n"
     ]
    }
   ],
   "source": [
    "print(gc)\n"
   ]
  },
  {
   "cell_type": "markdown",
   "metadata": {},
   "source": [
    "# Liz playing with randomizer"
   ]
  },
  {
   "cell_type": "code",
   "execution_count": 110,
   "metadata": {},
   "outputs": [
    {
     "name": "stdout",
     "output_type": "stream",
     "text": [
      "Getting Hasse of {'x3', 'x2', 'x4', 'y3', 'x0', 'y0', 'x1', 'y2', 'y4', 'y1'}\n"
     ]
    }
   ],
   "source": [
    "K = FE.Build_TenCircle()\n",
    "verbose = True\n",
    "randomizeStart = True"
   ]
  },
  {
   "cell_type": "code",
   "execution_count": 117,
   "metadata": {},
   "outputs": [
    {
     "name": "stdout",
     "output_type": "stream",
     "text": [
      "Number of max elemnts: 4\n",
      "Starting max is y1\n"
     ]
    }
   ],
   "source": [
    "maxCover = []\n",
    "maxs = list(K.getMaxs())\n",
    "if randomizeStart:\n",
    "    index = np.random.randint(len(maxs))\n",
    "else:\n",
    "    index = 0\n",
    "m = maxs.pop(index)\n",
    "if verbose:\n",
    "    print(\"Number of max elemnts:\", len(maxs))\n",
    "    print(\"Starting max is \"+str(m))"
   ]
  },
  {
   "cell_type": "code",
   "execution_count": 118,
   "metadata": {},
   "outputs": [
    {
     "name": "stdout",
     "output_type": "stream",
     "text": [
      "{4: ['y3', 'y4'], 2: ['y0', 'y2']}\n",
      "{4: ['y3', 'y4'], 2: ['y2', 'y0']}\n",
      "Wall time: 0 ns\n"
     ]
    }
   ],
   "source": [
    "%%time\n",
    "\n",
    "dist_dict = {}\n",
    "for u in maxs:\n",
    "    dist = nx.shortest_path_length(K.adjacencies, m, u)\n",
    "    if dist in dist_dict.keys():\n",
    "        dist_dict[dist].append(u)\n",
    "    else:\n",
    "        dist_dict[dist] = [u]\n",
    "\n",
    "\n",
    "\n",
    "print(dist_dict)\n",
    "\n",
    "for dist in dist_dict.keys():\n",
    "    np.random.shuffle(dist_dict[dist])\n",
    "\n",
    "print(dist_dict)\n",
    "            "
   ]
  },
  {
   "cell_type": "code",
   "execution_count": 128,
   "metadata": {},
   "outputs": [
    {
     "name": "stdout",
     "output_type": "stream",
     "text": [
      "{4: ['y3', 'y4'], 2: ['y0', 'y2']}\n",
      "{4: ['y4', 'y3'], 2: ['y0', 'y2']}\n",
      "['y0' 'y2' 'y4' 'y3']\n",
      "Wall time: 0 ns\n"
     ]
    }
   ],
   "source": [
    "%%time\n",
    "# Trying something else \n",
    "dist_dict = nx.shortest_path_length(K.adjacencies, m)\n",
    "dict_by_distance = {}\n",
    "for u in maxs:\n",
    "    dist = dist_dict[u]\n",
    "    if dist in dict_by_distance.keys():\n",
    "        dict_by_distance[dist].append(u)\n",
    "    else:\n",
    "        dict_by_distance[dist] = [u]\n",
    "\n",
    "dists = list(dict_by_distance.keys())\n",
    "dists.sort()\n",
    "\n",
    "print(dict_by_distance)\n",
    "for key in dict_by_distance.keys():\n",
    "    np.random.shuffle(dict_by_distance[key])\n",
    "print(dict_by_distance)\n",
    "\n",
    "\n",
    "sorted_maxs = np.concatenate([dict_by_distance[i] for i in dists])\n",
    "print(sorted_maxs)"
   ]
  },
  {
   "cell_type": "code",
   "execution_count": 107,
   "metadata": {},
   "outputs": [
    {
     "data": {
      "text/plain": [
       "{2: ['y1', 'y3'], 4: ['y4', 'y0']}"
      ]
     },
     "execution_count": 107,
     "metadata": {},
     "output_type": "execute_result"
    }
   ],
   "source": [
    "dist_dict"
   ]
  },
  {
   "cell_type": "code",
   "execution_count": 103,
   "metadata": {},
   "outputs": [
    {
     "data": {
      "text/plain": [
       "'RANDOM'"
      ]
     },
     "execution_count": 103,
     "metadata": {},
     "output_type": "execute_result"
    }
   ],
   "source": [
    "\"RanDom\".upper()"
   ]
  },
  {
   "cell_type": "code",
   "execution_count": null,
   "metadata": {},
   "outputs": [],
   "source": [
    "### Original code in here "
   ]
  },
  {
   "cell_type": "code",
   "execution_count": 95,
   "metadata": {},
   "outputs": [
    {
     "name": "stdout",
     "output_type": "stream",
     "text": [
      "y3 0\n",
      "x3 1\n",
      "x4 1\n",
      "y2 2\n",
      "y4 2\n",
      "x2 3\n",
      "x0 3\n",
      "y1 4\n",
      "y0 4\n",
      "x1 5\n"
     ]
    }
   ],
   "source": [
    "maxCover.append(K.getDownset(m))\n",
    "dist_dict = nx.shortest_path_length(K.adjacencies, m)\n",
    "# dist_dict['a2,a3']\n",
    "if verbose:\n",
    "    for k in dist_dict:\n",
    "        print(str(k)+\" \"+str(dist_dict.get(k)))"
   ]
  },
  {
   "cell_type": "code",
   "execution_count": 96,
   "metadata": {},
   "outputs": [
    {
     "name": "stdout",
     "output_type": "stream",
     "text": [
      "[('y3', 0), ('x3', 1), ('x4', 1), ('y2', 2), ('y4', 2), ('x2', 3), ('x0', 3), ('y1', 4), ('y0', 4), ('x1', 5)]\n"
     ]
    }
   ],
   "source": [
    "sorted_dict = sorted(dist_dict.items(), key=operator.itemgetter(1))\n",
    "print(sorted_dict)\n",
    "\n",
    "sorted_maxs = [key[0] for key in sorted_dict if key[0] in maxs]\n",
    "print(sorted_maxs)"
   ]
  },
  {
   "cell_type": "code",
   "execution_count": 98,
   "metadata": {},
   "outputs": [
    {
     "data": {
      "text/plain": [
       "[('y2', 2), ('y4', 2), ('y1', 4), ('y0', 4)]"
      ]
     },
     "execution_count": 98,
     "metadata": {},
     "output_type": "execute_result"
    }
   ],
   "source": [
    "[key for key in sorted_dict if key[0] in maxs]"
   ]
  },
  {
   "cell_type": "code",
   "execution_count": 102,
   "metadata": {},
   "outputs": [
    {
     "data": {
      "text/plain": [
       "['y0', 'y4', 'y1', 'y2']"
      ]
     },
     "execution_count": 102,
     "metadata": {},
     "output_type": "execute_result"
    }
   ],
   "source": [
    "random.shuffle(sorted_maxs)\n",
    "sorted_maxs"
   ]
  },
  {
   "cell_type": "markdown",
   "metadata": {},
   "source": [
    "# Klein Bottle"
   ]
  },
  {
   "cell_type": "code",
   "execution_count": 162,
   "metadata": {},
   "outputs": [
    {
     "name": "stdout",
     "output_type": "stream",
     "text": [
      "Getting Hasse of {'b1', 'a3', 'b2', 'a2', 'b5', 'b3', 'b6', 'b4', 'b7', 'c1', 'a1', 'c2', 'a4', 'c3', 'c4', 'b8'}\n",
      "Wall time: 0 ns\n"
     ]
    }
   ],
   "source": [
    "%%time\n",
    "\n",
    "X = FE.Build_Klein()\n"
   ]
  },
  {
   "cell_type": "code",
   "execution_count": 163,
   "metadata": {
    "scrolled": true
   },
   "outputs": [
    {
     "name": "stdout",
     "output_type": "stream",
     "text": [
      "Trying covers of size 4\n",
      "\tFound cover of size 4\n",
      "Trying covers of size 3\n",
      "No cover found of size 3 so min size cover is 4... exiting.\n",
      "Wall time: 11.9 ms\n"
     ]
    }
   ],
   "source": [
    "%%time\n",
    "gcatX = B.get_brute_gcat(X, verbose = True)"
   ]
  },
  {
   "cell_type": "code",
   "execution_count": 164,
   "metadata": {},
   "outputs": [
    {
     "name": "stdout",
     "output_type": "stream",
     "text": [
      "Using BFS\n",
      "Starting max is a2\n",
      "Using random BFS\n",
      "['a4' 'a3' 'a1']\n",
      "Wall time: 1.34 s\n"
     ]
    }
   ],
   "source": [
    "%%time\n",
    "catX = list()\n",
    "\n",
    "for i in range(100):\n",
    "    clear_output()\n",
    "    catX.append(len(X.shuffleCatCover(randomizeStart = True,randomizeStyle = \"BFS-random\",verbose = True)))"
   ]
  },
  {
   "cell_type": "code",
   "execution_count": 165,
   "metadata": {
    "scrolled": false
   },
   "outputs": [
    {
     "name": "stdout",
     "output_type": "stream",
     "text": [
      "4 :  100.0 %\n"
     ]
    }
   ],
   "source": [
    "catX.count(gcatX)\n",
    "printCount(catX)"
   ]
  },
  {
   "cell_type": "markdown",
   "metadata": {},
   "source": [
    "# Klein Bottle Squared"
   ]
  },
  {
   "cell_type": "code",
   "execution_count": 166,
   "metadata": {},
   "outputs": [
    {
     "name": "stdout",
     "output_type": "stream",
     "text": [
      "Getting Hasse of {'b1', 'a3', 'b2', 'a2', 'b5', 'b3', 'b6', 'b4', 'b7', 'c1', 'a1', 'c2', 'a4', 'c3', 'c4', 'b8'}\n",
      "Wall time: 136 ms\n"
     ]
    }
   ],
   "source": [
    "%%time\n",
    "\n",
    "X = FE.Build_KleinSquared()\n"
   ]
  },
  {
   "cell_type": "code",
   "execution_count": 167,
   "metadata": {
    "scrolled": true
   },
   "outputs": [
    {
     "name": "stdout",
     "output_type": "stream",
     "text": [
      "Trying covers of size 16\n",
      "\tFound cover of size 16\n",
      "Trying covers of size 15\n",
      "No cover found of size 15 so min size cover is 16... exiting.\n",
      "Wall time: 4.3 s\n"
     ]
    }
   ],
   "source": [
    "%%time\n",
    "gcatX = B.get_brute_gcat(X, verbose = True)"
   ]
  },
  {
   "cell_type": "code",
   "execution_count": 169,
   "metadata": {},
   "outputs": [
    {
     "name": "stdout",
     "output_type": "stream",
     "text": [
      "i = 9\n",
      "Using BFS\n",
      "Starting max is a1,a2\n",
      "Using random BFS\n",
      "['a4,a2' 'a3,a2' 'a3,a3' 'a4,a1' 'a2,a4' 'a2,a2' 'a3,a4' 'a4,a4' 'a1,a4'\n",
      " 'a1,a3' 'a2,a1' 'a1,a1' 'a3,a1' 'a2,a3' 'a4,a3']\n",
      "Wall time: 52 s\n"
     ]
    }
   ],
   "source": [
    "%%time\n",
    "catX = list()\n",
    "\n",
    "for i in range(10):\n",
    "    clear_output()\n",
    "    print(\"i =\", i)\n",
    "    catX.append(len(X.shuffleCatCover(randomizeStart = True,randomizeStyle = \"BFS-random\",verbose = True)))"
   ]
  },
  {
   "cell_type": "code",
   "execution_count": 170,
   "metadata": {
    "scrolled": false
   },
   "outputs": [
    {
     "name": "stdout",
     "output_type": "stream",
     "text": [
      "16 :  100.0 %\n"
     ]
    }
   ],
   "source": [
    "catX.count(gcatX)\n",
    "printCount(catX)"
   ]
  },
  {
   "cell_type": "markdown",
   "metadata": {},
   "source": [
    "# Minimal Circle"
   ]
  },
  {
   "cell_type": "code",
   "execution_count": 70,
   "metadata": {},
   "outputs": [
    {
     "name": "stdout",
     "output_type": "stream",
     "text": [
      "Getting Hasse of {'c', 'd', 'a', 'b'}\n",
      "Trying covers of size 2\n",
      "\tFound cover of size 2\n",
      "Trying covers of size 1\n",
      "No cover found of size 1 so min size cover is 2... exiting.\n",
      "Wall time: 998 µs\n"
     ]
    }
   ],
   "source": [
    "%%time \n",
    "\n",
    "S = FE.Build_MinCircle()\n",
    "catS = list()\n",
    "gcatS = B.get_brute_gcat(S, verbose = True)\n",
    "# for i in range(100):\n",
    "#     catS.append(len(S.shuffleCatCover()))\n"
   ]
  },
  {
   "cell_type": "code",
   "execution_count": null,
   "metadata": {},
   "outputs": [],
   "source": [
    "catS.count(gcatS)\n",
    "printCount(catK)"
   ]
  },
  {
   "cell_type": "markdown",
   "metadata": {},
   "source": [
    "# Minimal Torus"
   ]
  },
  {
   "cell_type": "code",
   "execution_count": 71,
   "metadata": {},
   "outputs": [
    {
     "name": "stdout",
     "output_type": "stream",
     "text": [
      "Getting Hasse of {'c', 'd', 'a', 'b'}\n",
      "Trying covers of size 4\n",
      "\tFound cover of size 4\n",
      "Trying covers of size 3\n",
      "No cover found of size 3 so min size cover is 4... exiting.\n",
      "Wall time: 14.8 ms\n"
     ]
    }
   ],
   "source": [
    "%%time\n",
    "\n",
    "T4 = FE.Build_MinTorus()\n",
    "catT4 = list()\n",
    "gcatT4 = B.get_brute_gcat(T4, verbose = True)\n",
    "# for i in range(100):\n",
    "#     catT4.append(len(T4.shuffleCatCover()))\n"
   ]
  },
  {
   "cell_type": "code",
   "execution_count": null,
   "metadata": {},
   "outputs": [],
   "source": [
    "print(catT4.count(gcatT4))\n",
    "printCount(catT4)"
   ]
  },
  {
   "cell_type": "markdown",
   "metadata": {},
   "source": [
    "# Six Circle"
   ]
  },
  {
   "cell_type": "code",
   "execution_count": 72,
   "metadata": {},
   "outputs": [
    {
     "name": "stdout",
     "output_type": "stream",
     "text": [
      "Getting Hasse of {'x2', 'y1', 'x1', 'y2', 'y0', 'x0'}\n",
      "Trying covers of size 3\n",
      "\tFound cover of size 3\n",
      "Trying covers of size 2\n",
      "\tFound cover of size 2\n",
      "Trying covers of size 1\n",
      "No cover found of size 1 so min size cover is 2... exiting.\n",
      "Wall time: 3 ms\n"
     ]
    }
   ],
   "source": [
    "%%time\n",
    "S3 = FE.Build_SixCircle()\n",
    "catS3 = list()\n",
    "gcatS3 = B.get_brute_gcat(S3, verbose = True)\n",
    "# for i in range(100):\n",
    "#     catS3.append(len(S3.shuffleCatCover()))\n",
    "# catS3.count(gcatS3)"
   ]
  },
  {
   "cell_type": "markdown",
   "metadata": {},
   "source": [
    "# Six Torus "
   ]
  },
  {
   "cell_type": "code",
   "execution_count": 73,
   "metadata": {},
   "outputs": [
    {
     "name": "stdout",
     "output_type": "stream",
     "text": [
      "Getting Hasse of {'x2', 'y1', 'x1', 'y2', 'y0', 'x0'}\n",
      "Trying covers of size 9\n",
      "\tFound cover of size 9\n",
      "Trying covers of size 8\n",
      "\tFound cover of size 8\n",
      "Trying covers of size 7\n",
      "No cover found of size 7 so min size cover is 8... exiting.\n",
      "Wall time: 49.7 ms\n"
     ]
    }
   ],
   "source": [
    "%%time\n",
    "T9 = FE.Build_SixTorus()\n",
    "catT9 = list()\n",
    "gcatT9 = B.get_brute_gcat(T9, verbose = True)\n",
    "# for i in range(100):\n",
    "#     catT9.append(len(T9.shuffleCatCover()))\n"
   ]
  },
  {
   "cell_type": "code",
   "execution_count": null,
   "metadata": {},
   "outputs": [],
   "source": [
    "print(catT9.count(gcatT9))\n",
    "printCount(catT9)"
   ]
  },
  {
   "cell_type": "markdown",
   "metadata": {},
   "source": [
    "# Ten Circle"
   ]
  },
  {
   "cell_type": "code",
   "execution_count": 74,
   "metadata": {},
   "outputs": [
    {
     "name": "stdout",
     "output_type": "stream",
     "text": [
      "Getting Hasse of {'x2', 'y4', 'x3', 'y1', 'y3', 'x1', 'x4', 'y2', 'y0', 'x0'}\n",
      "Trying covers of size 5\n",
      "\tFound cover of size 5\n",
      "Trying covers of size 4\n",
      "No cover found of size 4 so min size cover is 5... exiting.\n",
      "Wall time: 2.02 ms\n"
     ]
    }
   ],
   "source": [
    "%%time\n",
    "\n",
    "S5 = FE.Build_TenCircle()\n",
    "catS5 = list()\n",
    "gcatS5 = B.get_brute_gcat(S5, verbose = True)\n",
    "# for i in range(100):\n",
    "#     catS5.append(len(S5.shuffleCatCover()))\n"
   ]
  },
  {
   "cell_type": "code",
   "execution_count": null,
   "metadata": {},
   "outputs": [],
   "source": [
    "print(catS5.count(gcatS5))\n",
    "printCount(catS5)"
   ]
  },
  {
   "cell_type": "markdown",
   "metadata": {},
   "source": [
    "# Ten torus"
   ]
  },
  {
   "cell_type": "code",
   "execution_count": 75,
   "metadata": {},
   "outputs": [
    {
     "name": "stdout",
     "output_type": "stream",
     "text": [
      "Getting Hasse of {'x2', 'y4', 'x3', 'y1', 'y3', 'x1', 'x4', 'y2', 'y0', 'x0'}\n",
      "Wall time: 17.6 ms\n"
     ]
    }
   ],
   "source": [
    "%%time\n",
    "\n",
    "T25 = FE.Build_TenTorus()\n",
    "\n",
    "catT25 = list()\n"
   ]
  },
  {
   "cell_type": "code",
   "execution_count": null,
   "metadata": {},
   "outputs": [],
   "source": [
    "%%time \n",
    "for i in range(100):\n",
    "    print(i)\n",
    "    catT25.append(len(T25.shuffleCatCover()))"
   ]
  },
  {
   "cell_type": "code",
   "execution_count": null,
   "metadata": {},
   "outputs": [],
   "source": [
    "printCount(catT25)"
   ]
  },
  {
   "cell_type": "code",
   "execution_count": 76,
   "metadata": {},
   "outputs": [
    {
     "name": "stdout",
     "output_type": "stream",
     "text": [
      "Trying covers of size 25\n",
      "\tFound cover of size 25\n",
      "Trying covers of size 24\n",
      "No cover found of size 24 so min size cover is 25... exiting.\n",
      "Wall time: 88.4 ms\n"
     ]
    }
   ],
   "source": [
    "%%time\n",
    "\n",
    "# This next line might run forever!\n",
    "\n",
    "gcatT25 = B.get_brute_gcat(T25, verbose = True)"
   ]
  },
  {
   "cell_type": "code",
   "execution_count": null,
   "metadata": {},
   "outputs": [],
   "source": [
    "catT25.count(gcatT25)\n"
   ]
  },
  {
   "cell_type": "code",
   "execution_count": null,
   "metadata": {},
   "outputs": [],
   "source": []
  }
 ],
 "metadata": {
  "kernelspec": {
   "display_name": "Python 3",
   "language": "python",
   "name": "python3"
  },
  "language_info": {
   "codemirror_mode": {
    "name": "ipython",
    "version": 3
   },
   "file_extension": ".py",
   "mimetype": "text/x-python",
   "name": "python",
   "nbconvert_exporter": "python",
   "pygments_lexer": "ipython3",
   "version": "3.7.6"
  }
 },
 "nbformat": 4,
 "nbformat_minor": 4
}
