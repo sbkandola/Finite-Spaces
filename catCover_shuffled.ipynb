{
 "cells": [
  {
   "cell_type": "code",
   "execution_count": 26,
   "metadata": {},
   "outputs": [],
   "source": [
    "import FiniteSpace_Examples as FE\n",
    "import FiniteSpaces_Class as FS\n",
    "import Brute_gcat as B\n",
    "\n",
    "from itertools import combinations\n",
    "from imp import reload\n",
    "import numpy as np\n",
    "from IPython.display import display, clear_output\n",
    "import networkx as nx\n",
    "import operator\n",
    "import random\n",
    "import time"
   ]
  },
  {
   "cell_type": "code",
   "execution_count": 27,
   "metadata": {},
   "outputs": [
    {
     "data": {
      "text/plain": [
       "<module 'FiniteSpaces_Class' from 'F:\\\\Dropbox\\\\Math\\\\ResearchProjects\\\\FiniteTopology\\\\Code\\\\Finite-Spaces\\\\FiniteSpaces_Class.py'>"
      ]
     },
     "execution_count": 27,
     "metadata": {},
     "output_type": "execute_result"
    }
   ],
   "source": [
    "reload(B)\n",
    "reload(FS)\n",
    "reload(FE)\n",
    "reload(FE.FS)"
   ]
  },
  {
   "cell_type": "code",
   "execution_count": 28,
   "metadata": {},
   "outputs": [],
   "source": [
    "def printCount(list,percent = True):\n",
    "    entries = set(list)\n",
    "    n = len(list)\n",
    "    print('Distribution of calculated gcat')\n",
    "    for e in entries:\n",
    "        print(e,': ', list.count(e)/n * 100,\"%\")\n",
    "    "
   ]
  },
  {
   "cell_type": "code",
   "execution_count": 29,
   "metadata": {},
   "outputs": [],
   "source": [
    "def experiment(space, \n",
    "               spaceName = 'X', \n",
    "               doBrute = True, \n",
    "               doRandom = True, \n",
    "               numRandom = 100,\n",
    "               verbose = True):\n",
    "    \n",
    "    # Run brute force version \n",
    "    if doBrute:\n",
    "        start = time.time()\n",
    "        gcatX = B.get_brute_gcat(X, verbose = verbose)\n",
    "        end = time.time()\n",
    "        print('\\nThe geometric category of', spaceName, 'is', gcatX)\n",
    "        print('Time taken:', round(end-start,4), 'secs\\n')\n",
    "    \n",
    "    if doRandom:\n",
    "        catX = list()\n",
    "        times = list()\n",
    "\n",
    "        for i in range(numRandom):\n",
    "#             clear_output()\n",
    "            start = time.time()\n",
    "            catX.append(len(X.shuffleCatCover(randomizeStart = True,randomizeStyle = \"BFS-random\",verbose = verbose)))\n",
    "            end = time.time()\n",
    "            times.append(end-start)\n",
    "        catX.count(gcatX)\n",
    "        printCount(catX)\n",
    "        print('Avg time taken:', round(np.average(times),4), 'secs')\n",
    "        \n",
    "        randomgcat = min(catX)\n",
    "        \n",
    "    if doBrute and doRandom:\n",
    "        if randomgcat != gcatX: #If the values aren't the same\n",
    "            print('\\n---WARNING---')\n",
    "            print('Brute force calculated:', gcatX)\n",
    "            print('BFS calculated:', randomgcat)\n",
    "        "
   ]
  },
  {
   "cell_type": "markdown",
   "metadata": {},
   "source": [
    "# Klein Bottle"
   ]
  },
  {
   "cell_type": "code",
   "execution_count": 30,
   "metadata": {
    "scrolled": false
   },
   "outputs": [
    {
     "name": "stdout",
     "output_type": "stream",
     "text": [
      "Getting Hasse of {'a2', 'b6', 'c3', 'a1', 'c4', 'b7', 'b8', 'b4', 'b3', 'c2', 'b2', 'b1', 'a4', 'b5', 'c1', 'a3'}\n",
      "Trying covers of size 4\n",
      "\tFound cover of size 4\n",
      "Trying covers of size 3\n",
      "Trying covers of size 2\n",
      "\n",
      "The geometric category of the Klein bottle is 4\n",
      "Time taken: 0.0397 secs\n",
      "\n",
      "Using BFS\n",
      "Starting max is a1\n",
      "Using random BFS\n",
      "['a2' 'a4' 'a3']\n",
      "Using BFS\n",
      "Starting max is a1\n",
      "Using random BFS\n",
      "['a4' 'a3' 'a2']\n",
      "Using BFS\n",
      "Starting max is a2\n",
      "Using random BFS\n",
      "['a3' 'a1' 'a4']\n",
      "Using BFS\n",
      "Starting max is a2\n",
      "Using random BFS\n",
      "['a3' 'a4' 'a1']\n",
      "Using BFS\n",
      "Starting max is a3\n",
      "Using random BFS\n",
      "['a4' 'a1' 'a2']\n",
      "Using BFS\n",
      "Starting max is a3\n",
      "Using random BFS\n",
      "['a4' 'a2' 'a1']\n",
      "Using BFS\n",
      "Starting max is a1\n",
      "Using random BFS\n",
      "['a3' 'a4' 'a2']\n",
      "Using BFS\n",
      "Starting max is a2\n",
      "Using random BFS\n",
      "['a1' 'a3' 'a4']\n",
      "Using BFS\n",
      "Starting max is a1\n",
      "Using random BFS\n",
      "['a3' 'a4' 'a2']\n",
      "Using BFS\n",
      "Starting max is a2\n",
      "Using random BFS\n",
      "['a3' 'a4' 'a1']\n",
      "Distribution of calculated gcat\n",
      "4 :  100.0 %\n",
      "Avg time taken: 0.0134 secs\n"
     ]
    }
   ],
   "source": [
    "X = FE.Build_Klein()\n",
    "\n",
    "experiment(X, spaceName = 'the Klein bottle', numRandom = 10, verbose = True)"
   ]
  },
  {
   "cell_type": "markdown",
   "metadata": {},
   "source": [
    "# Klein Bottle Squared"
   ]
  },
  {
   "cell_type": "code",
   "execution_count": 31,
   "metadata": {
    "scrolled": false
   },
   "outputs": [
    {
     "name": "stdout",
     "output_type": "stream",
     "text": [
      "Getting Hasse of {'a2', 'b6', 'c3', 'a1', 'c4', 'b7', 'b8', 'b4', 'b3', 'c2', 'b2', 'b1', 'a4', 'b5', 'c1', 'a3'}\n",
      "Trying covers of size 16\n",
      "\tFound cover of size 16\n",
      "Trying covers of size 15\n"
     ]
    },
    {
     "ename": "KeyboardInterrupt",
     "evalue": "",
     "output_type": "error",
     "traceback": [
      "\u001b[1;31m---------------------------------------------------------------------------\u001b[0m",
      "\u001b[1;31mKeyboardInterrupt\u001b[0m                         Traceback (most recent call last)",
      "\u001b[1;32m<ipython-input-31-49e7d431ab83>\u001b[0m in \u001b[0;36m<module>\u001b[1;34m\u001b[0m\n\u001b[0;32m      1\u001b[0m \u001b[0mX\u001b[0m \u001b[1;33m=\u001b[0m \u001b[0mFE\u001b[0m\u001b[1;33m.\u001b[0m\u001b[0mBuild_KleinSquared\u001b[0m\u001b[1;33m(\u001b[0m\u001b[1;33m)\u001b[0m\u001b[1;33m\u001b[0m\u001b[1;33m\u001b[0m\u001b[0m\n\u001b[0;32m      2\u001b[0m \u001b[1;33m\u001b[0m\u001b[0m\n\u001b[1;32m----> 3\u001b[1;33m \u001b[0mexperiment\u001b[0m\u001b[1;33m(\u001b[0m\u001b[0mX\u001b[0m\u001b[1;33m,\u001b[0m \u001b[0mspaceName\u001b[0m \u001b[1;33m=\u001b[0m \u001b[1;34m'the Klein bottle squared'\u001b[0m\u001b[1;33m,\u001b[0m \u001b[0mnumRandom\u001b[0m \u001b[1;33m=\u001b[0m \u001b[1;36m10\u001b[0m\u001b[1;33m,\u001b[0m \u001b[0mverbose\u001b[0m \u001b[1;33m=\u001b[0m \u001b[1;32mTrue\u001b[0m\u001b[1;33m)\u001b[0m\u001b[1;33m\u001b[0m\u001b[1;33m\u001b[0m\u001b[0m\n\u001b[0m",
      "\u001b[1;32m<ipython-input-29-99c8dbac1590>\u001b[0m in \u001b[0;36mexperiment\u001b[1;34m(space, spaceName, doBrute, doRandom, numRandom, verbose)\u001b[0m\n\u001b[0;32m      9\u001b[0m     \u001b[1;32mif\u001b[0m \u001b[0mdoBrute\u001b[0m\u001b[1;33m:\u001b[0m\u001b[1;33m\u001b[0m\u001b[1;33m\u001b[0m\u001b[0m\n\u001b[0;32m     10\u001b[0m         \u001b[0mstart\u001b[0m \u001b[1;33m=\u001b[0m \u001b[0mtime\u001b[0m\u001b[1;33m.\u001b[0m\u001b[0mtime\u001b[0m\u001b[1;33m(\u001b[0m\u001b[1;33m)\u001b[0m\u001b[1;33m\u001b[0m\u001b[1;33m\u001b[0m\u001b[0m\n\u001b[1;32m---> 11\u001b[1;33m         \u001b[0mgcatX\u001b[0m \u001b[1;33m=\u001b[0m \u001b[0mB\u001b[0m\u001b[1;33m.\u001b[0m\u001b[0mget_brute_gcat\u001b[0m\u001b[1;33m(\u001b[0m\u001b[0mX\u001b[0m\u001b[1;33m,\u001b[0m \u001b[0mverbose\u001b[0m \u001b[1;33m=\u001b[0m \u001b[0mverbose\u001b[0m\u001b[1;33m)\u001b[0m\u001b[1;33m\u001b[0m\u001b[1;33m\u001b[0m\u001b[0m\n\u001b[0m\u001b[0;32m     12\u001b[0m         \u001b[0mend\u001b[0m \u001b[1;33m=\u001b[0m \u001b[0mtime\u001b[0m\u001b[1;33m.\u001b[0m\u001b[0mtime\u001b[0m\u001b[1;33m(\u001b[0m\u001b[1;33m)\u001b[0m\u001b[1;33m\u001b[0m\u001b[1;33m\u001b[0m\u001b[0m\n\u001b[0;32m     13\u001b[0m         \u001b[0mprint\u001b[0m\u001b[1;33m(\u001b[0m\u001b[1;34m'\\nThe geometric category of'\u001b[0m\u001b[1;33m,\u001b[0m \u001b[0mspaceName\u001b[0m\u001b[1;33m,\u001b[0m \u001b[1;34m'is'\u001b[0m\u001b[1;33m,\u001b[0m \u001b[0mgcatX\u001b[0m\u001b[1;33m)\u001b[0m\u001b[1;33m\u001b[0m\u001b[1;33m\u001b[0m\u001b[0m\n",
      "\u001b[1;32mF:\\Dropbox\\Math\\ResearchProjects\\FiniteTopology\\Code\\Finite-Spaces\\Brute_gcat.py\u001b[0m in \u001b[0;36mget_brute_gcat\u001b[1;34m(space, verbose)\u001b[0m\n\u001b[0;32m    159\u001b[0m         \u001b[1;31m# Start checking for a partition of size $k$ that is a valid cover\u001b[0m\u001b[1;33m\u001b[0m\u001b[1;33m\u001b[0m\u001b[1;33m\u001b[0m\u001b[0m\n\u001b[0;32m    160\u001b[0m         \u001b[1;32mfor\u001b[0m \u001b[0mpart\u001b[0m \u001b[1;32min\u001b[0m \u001b[0mpartition\u001b[0m\u001b[1;33m(\u001b[0m\u001b[0mlist\u001b[0m\u001b[1;33m(\u001b[0m\u001b[0mmaxs\u001b[0m\u001b[1;33m)\u001b[0m\u001b[1;33m,\u001b[0m \u001b[0mk\u001b[0m\u001b[1;33m)\u001b[0m\u001b[1;33m:\u001b[0m\u001b[1;33m\u001b[0m\u001b[1;33m\u001b[0m\u001b[0m\n\u001b[1;32m--> 161\u001b[1;33m             \u001b[1;32mif\u001b[0m \u001b[0mis_gcat_cover\u001b[0m\u001b[1;33m(\u001b[0m\u001b[0mspace\u001b[0m\u001b[1;33m,\u001b[0m\u001b[0mpart\u001b[0m\u001b[1;33m)\u001b[0m\u001b[1;33m:\u001b[0m\u001b[1;33m\u001b[0m\u001b[1;33m\u001b[0m\u001b[0m\n\u001b[0m\u001b[0;32m    162\u001b[0m                 \u001b[1;31m# If you're in here, you have a valid cover.\u001b[0m\u001b[1;33m\u001b[0m\u001b[1;33m\u001b[0m\u001b[1;33m\u001b[0m\u001b[0m\n\u001b[0;32m    163\u001b[0m                 \u001b[0mgc\u001b[0m \u001b[1;33m=\u001b[0m \u001b[0mlen\u001b[0m\u001b[1;33m(\u001b[0m\u001b[0mpart\u001b[0m\u001b[1;33m)\u001b[0m\u001b[1;33m\u001b[0m\u001b[1;33m\u001b[0m\u001b[0m\n",
      "\u001b[1;32mF:\\Dropbox\\Math\\ResearchProjects\\FiniteTopology\\Code\\Finite-Spaces\\Brute_gcat.py\u001b[0m in \u001b[0;36mis_gcat_cover\u001b[1;34m(space, part)\u001b[0m\n\u001b[0;32m    131\u001b[0m     '''\n\u001b[0;32m    132\u001b[0m     \u001b[1;32mfor\u001b[0m \u001b[0mp\u001b[0m \u001b[1;32min\u001b[0m \u001b[0mpart\u001b[0m\u001b[1;33m:\u001b[0m\u001b[1;33m\u001b[0m\u001b[1;33m\u001b[0m\u001b[0m\n\u001b[1;32m--> 133\u001b[1;33m         \u001b[1;32mif\u001b[0m \u001b[1;32mnot\u001b[0m\u001b[1;33m(\u001b[0m\u001b[0mspace\u001b[0m\u001b[1;33m.\u001b[0m\u001b[0mgetOpens\u001b[0m\u001b[1;33m(\u001b[0m\u001b[0mset\u001b[0m\u001b[1;33m(\u001b[0m\u001b[0mp\u001b[0m\u001b[1;33m)\u001b[0m\u001b[1;33m)\u001b[0m\u001b[1;33m.\u001b[0m\u001b[0misContractible\u001b[0m\u001b[1;33m(\u001b[0m\u001b[1;33m)\u001b[0m\u001b[1;33m)\u001b[0m\u001b[1;33m:\u001b[0m\u001b[1;33m\u001b[0m\u001b[1;33m\u001b[0m\u001b[0m\n\u001b[0m\u001b[0;32m    134\u001b[0m             \u001b[1;32mreturn\u001b[0m \u001b[1;32mFalse\u001b[0m\u001b[1;33m\u001b[0m\u001b[1;33m\u001b[0m\u001b[0m\n\u001b[0;32m    135\u001b[0m     \u001b[1;32mreturn\u001b[0m \u001b[1;32mTrue\u001b[0m\u001b[1;33m\u001b[0m\u001b[1;33m\u001b[0m\u001b[0m\n",
      "\u001b[1;32mF:\\Dropbox\\Math\\ResearchProjects\\FiniteTopology\\Code\\Finite-Spaces\\FiniteSpaces_Class.py\u001b[0m in \u001b[0;36misContractible\u001b[1;34m(self)\u001b[0m\n\u001b[0;32m    775\u001b[0m             \u001b[1;32mreturn\u001b[0m \u001b[0mself\u001b[0m\u001b[1;33m.\u001b[0m\u001b[0mtwoDownContractible\u001b[0m\u001b[1;33m(\u001b[0m\u001b[0mmaxs\u001b[0m\u001b[1;33m[\u001b[0m\u001b[1;36m0\u001b[0m\u001b[1;33m]\u001b[0m\u001b[1;33m,\u001b[0m\u001b[0mmaxs\u001b[0m\u001b[1;33m[\u001b[0m\u001b[1;36m1\u001b[0m\u001b[1;33m]\u001b[0m\u001b[1;33m)\u001b[0m\u001b[1;33m\u001b[0m\u001b[1;33m\u001b[0m\u001b[0m\n\u001b[0;32m    776\u001b[0m         \u001b[1;32melse\u001b[0m\u001b[1;33m:\u001b[0m\u001b[1;33m\u001b[0m\u001b[1;33m\u001b[0m\u001b[0m\n\u001b[1;32m--> 777\u001b[1;33m             \u001b[1;32mreturn\u001b[0m \u001b[0mlen\u001b[0m\u001b[1;33m(\u001b[0m\u001b[0mself\u001b[0m\u001b[1;33m.\u001b[0m\u001b[0mgetCore\u001b[0m\u001b[1;33m(\u001b[0m\u001b[1;33m)\u001b[0m\u001b[1;33m.\u001b[0m\u001b[0mpoints\u001b[0m\u001b[1;33m)\u001b[0m\u001b[1;33m==\u001b[0m\u001b[1;36m1\u001b[0m\u001b[1;33m\u001b[0m\u001b[1;33m\u001b[0m\u001b[0m\n\u001b[0m\u001b[0;32m    778\u001b[0m \u001b[1;33m\u001b[0m\u001b[0m\n\u001b[0;32m    779\u001b[0m     \u001b[1;32mdef\u001b[0m \u001b[0misContractibleComponents\u001b[0m\u001b[1;33m(\u001b[0m\u001b[0mself\u001b[0m\u001b[1;33m)\u001b[0m\u001b[1;33m:\u001b[0m\u001b[1;33m\u001b[0m\u001b[1;33m\u001b[0m\u001b[0m\n",
      "\u001b[1;32mF:\\Dropbox\\Math\\ResearchProjects\\FiniteTopology\\Code\\Finite-Spaces\\FiniteSpaces_Class.py\u001b[0m in \u001b[0;36mgetCore\u001b[1;34m(self)\u001b[0m\n\u001b[0;32m    754\u001b[0m         \u001b[1;31m# print(p)\u001b[0m\u001b[1;33m\u001b[0m\u001b[1;33m\u001b[0m\u001b[1;33m\u001b[0m\u001b[0m\n\u001b[0;32m    755\u001b[0m         \u001b[1;32mwhile\u001b[0m\u001b[1;33m(\u001b[0m\u001b[0my\u001b[0m\u001b[1;33m)\u001b[0m\u001b[1;33m:\u001b[0m\u001b[1;33m\u001b[0m\u001b[1;33m\u001b[0m\u001b[0m\n\u001b[1;32m--> 756\u001b[1;33m             \u001b[0mcore\u001b[0m \u001b[1;33m=\u001b[0m \u001b[0mcore\u001b[0m\u001b[1;33m.\u001b[0m\u001b[0mdelBeat\u001b[0m\u001b[1;33m(\u001b[0m\u001b[0mp\u001b[0m\u001b[1;33m)\u001b[0m\u001b[1;33m\u001b[0m\u001b[1;33m\u001b[0m\u001b[0m\n\u001b[0m\u001b[0;32m    757\u001b[0m             \u001b[1;33m(\u001b[0m\u001b[0my\u001b[0m\u001b[1;33m,\u001b[0m\u001b[0mp\u001b[0m\u001b[1;33m)\u001b[0m \u001b[1;33m=\u001b[0m \u001b[0mcore\u001b[0m\u001b[1;33m.\u001b[0m\u001b[0mhasGetBeat\u001b[0m\u001b[1;33m(\u001b[0m\u001b[1;33m)\u001b[0m\u001b[1;33m\u001b[0m\u001b[1;33m\u001b[0m\u001b[0m\n\u001b[0;32m    758\u001b[0m             \u001b[1;31m#print(p)\u001b[0m\u001b[1;33m\u001b[0m\u001b[1;33m\u001b[0m\u001b[1;33m\u001b[0m\u001b[0m\n",
      "\u001b[1;32mF:\\Dropbox\\Math\\ResearchProjects\\FiniteTopology\\Code\\Finite-Spaces\\FiniteSpaces_Class.py\u001b[0m in \u001b[0;36mdelBeat\u001b[1;34m(self, point)\u001b[0m\n\u001b[0;32m    608\u001b[0m \u001b[1;33m\u001b[0m\u001b[0m\n\u001b[0;32m    609\u001b[0m         \u001b[0mnewGraph\u001b[0m \u001b[1;33m=\u001b[0m \u001b[0mnx\u001b[0m\u001b[1;33m.\u001b[0m\u001b[0mtransitive_reduction\u001b[0m\u001b[1;33m(\u001b[0m\u001b[0mnewGraph\u001b[0m\u001b[1;33m)\u001b[0m\u001b[1;33m\u001b[0m\u001b[1;33m\u001b[0m\u001b[0m\n\u001b[1;32m--> 610\u001b[1;33m         \u001b[1;32mreturn\u001b[0m \u001b[0mFiniteSpace\u001b[0m\u001b[1;33m(\u001b[0m\u001b[0mnewGraph\u001b[0m\u001b[1;33m)\u001b[0m\u001b[1;33m\u001b[0m\u001b[1;33m\u001b[0m\u001b[0m\n\u001b[0m\u001b[0;32m    611\u001b[0m \u001b[1;33m\u001b[0m\u001b[0m\n\u001b[0;32m    612\u001b[0m \u001b[1;33m\u001b[0m\u001b[0m\n",
      "\u001b[1;32mF:\\Dropbox\\Math\\ResearchProjects\\FiniteTopology\\Code\\Finite-Spaces\\FiniteSpaces_Class.py\u001b[0m in \u001b[0;36m__init__\u001b[1;34m(self, inputData)\u001b[0m\n\u001b[0;32m     64\u001b[0m             \u001b[0mself\u001b[0m\u001b[1;33m.\u001b[0m\u001b[0madjacencies\u001b[0m \u001b[1;33m=\u001b[0m \u001b[0mnx\u001b[0m\u001b[1;33m.\u001b[0m\u001b[0mGraph\u001b[0m\u001b[1;33m(\u001b[0m\u001b[1;33m)\u001b[0m\u001b[1;33m\u001b[0m\u001b[1;33m\u001b[0m\u001b[0m\n\u001b[0;32m     65\u001b[0m             \u001b[1;32mfor\u001b[0m \u001b[0mv\u001b[0m \u001b[1;32min\u001b[0m \u001b[0mself\u001b[0m\u001b[1;33m.\u001b[0m\u001b[0mpoints\u001b[0m\u001b[1;33m:\u001b[0m\u001b[1;33m\u001b[0m\u001b[1;33m\u001b[0m\u001b[0m\n\u001b[1;32m---> 66\u001b[1;33m                 \u001b[1;32mfor\u001b[0m \u001b[0mu\u001b[0m \u001b[1;32min\u001b[0m \u001b[0mnx\u001b[0m\u001b[1;33m.\u001b[0m\u001b[0mdescendants\u001b[0m\u001b[1;33m(\u001b[0m\u001b[0minputData\u001b[0m\u001b[1;33m,\u001b[0m \u001b[0mv\u001b[0m\u001b[1;33m)\u001b[0m\u001b[1;33m:\u001b[0m\u001b[1;33m\u001b[0m\u001b[1;33m\u001b[0m\u001b[0m\n\u001b[0m\u001b[0;32m     67\u001b[0m                     \u001b[0mself\u001b[0m\u001b[1;33m.\u001b[0m\u001b[0madjacencies\u001b[0m\u001b[1;33m.\u001b[0m\u001b[0madd_edge\u001b[0m\u001b[1;33m(\u001b[0m\u001b[0mv\u001b[0m\u001b[1;33m,\u001b[0m \u001b[0mu\u001b[0m\u001b[1;33m)\u001b[0m\u001b[1;33m\u001b[0m\u001b[1;33m\u001b[0m\u001b[0m\n\u001b[0;32m     68\u001b[0m \u001b[1;33m\u001b[0m\u001b[0m\n",
      "\u001b[1;32m~\\anaconda3\\lib\\site-packages\\networkx\\algorithms\\dag.py\u001b[0m in \u001b[0;36mdescendants\u001b[1;34m(G, source)\u001b[0m\n\u001b[0;32m     71\u001b[0m     \u001b[1;32mif\u001b[0m \u001b[1;32mnot\u001b[0m \u001b[0mG\u001b[0m\u001b[1;33m.\u001b[0m\u001b[0mhas_node\u001b[0m\u001b[1;33m(\u001b[0m\u001b[0msource\u001b[0m\u001b[1;33m)\u001b[0m\u001b[1;33m:\u001b[0m\u001b[1;33m\u001b[0m\u001b[1;33m\u001b[0m\u001b[0m\n\u001b[0;32m     72\u001b[0m         \u001b[1;32mraise\u001b[0m \u001b[0mnx\u001b[0m\u001b[1;33m.\u001b[0m\u001b[0mNetworkXError\u001b[0m\u001b[1;33m(\u001b[0m\u001b[1;34m\"The node %s is not in the graph.\"\u001b[0m \u001b[1;33m%\u001b[0m \u001b[0msource\u001b[0m\u001b[1;33m)\u001b[0m\u001b[1;33m\u001b[0m\u001b[1;33m\u001b[0m\u001b[0m\n\u001b[1;32m---> 73\u001b[1;33m     \u001b[0mdes\u001b[0m \u001b[1;33m=\u001b[0m \u001b[0mset\u001b[0m\u001b[1;33m(\u001b[0m\u001b[0mn\u001b[0m \u001b[1;32mfor\u001b[0m \u001b[0mn\u001b[0m\u001b[1;33m,\u001b[0m \u001b[0md\u001b[0m \u001b[1;32min\u001b[0m \u001b[0mnx\u001b[0m\u001b[1;33m.\u001b[0m\u001b[0mshortest_path_length\u001b[0m\u001b[1;33m(\u001b[0m\u001b[0mG\u001b[0m\u001b[1;33m,\u001b[0m \u001b[0msource\u001b[0m\u001b[1;33m=\u001b[0m\u001b[0msource\u001b[0m\u001b[1;33m)\u001b[0m\u001b[1;33m.\u001b[0m\u001b[0mitems\u001b[0m\u001b[1;33m(\u001b[0m\u001b[1;33m)\u001b[0m\u001b[1;33m)\u001b[0m\u001b[1;33m\u001b[0m\u001b[1;33m\u001b[0m\u001b[0m\n\u001b[0m\u001b[0;32m     74\u001b[0m     \u001b[1;32mreturn\u001b[0m \u001b[0mdes\u001b[0m \u001b[1;33m-\u001b[0m \u001b[1;33m{\u001b[0m\u001b[0msource\u001b[0m\u001b[1;33m}\u001b[0m\u001b[1;33m\u001b[0m\u001b[1;33m\u001b[0m\u001b[0m\n\u001b[0;32m     75\u001b[0m \u001b[1;33m\u001b[0m\u001b[0m\n",
      "\u001b[1;32m~\\anaconda3\\lib\\site-packages\\networkx\\algorithms\\shortest_paths\\generic.py\u001b[0m in \u001b[0;36mshortest_path_length\u001b[1;34m(G, source, target, weight, method)\u001b[0m\n\u001b[0;32m    300\u001b[0m             \u001b[1;31m# Find paths to all nodes accessible from the source.\u001b[0m\u001b[1;33m\u001b[0m\u001b[1;33m\u001b[0m\u001b[1;33m\u001b[0m\u001b[0m\n\u001b[0;32m    301\u001b[0m             \u001b[1;32mif\u001b[0m \u001b[0mmethod\u001b[0m \u001b[1;33m==\u001b[0m \u001b[1;34m'unweighted'\u001b[0m\u001b[1;33m:\u001b[0m\u001b[1;33m\u001b[0m\u001b[1;33m\u001b[0m\u001b[0m\n\u001b[1;32m--> 302\u001b[1;33m                 \u001b[0mpaths\u001b[0m \u001b[1;33m=\u001b[0m \u001b[0mnx\u001b[0m\u001b[1;33m.\u001b[0m\u001b[0msingle_source_shortest_path_length\u001b[0m\u001b[1;33m(\u001b[0m\u001b[0mG\u001b[0m\u001b[1;33m,\u001b[0m \u001b[0msource\u001b[0m\u001b[1;33m)\u001b[0m\u001b[1;33m\u001b[0m\u001b[1;33m\u001b[0m\u001b[0m\n\u001b[0m\u001b[0;32m    303\u001b[0m             \u001b[1;32melif\u001b[0m \u001b[0mmethod\u001b[0m \u001b[1;33m==\u001b[0m \u001b[1;34m'dijkstra'\u001b[0m\u001b[1;33m:\u001b[0m\u001b[1;33m\u001b[0m\u001b[1;33m\u001b[0m\u001b[0m\n\u001b[0;32m    304\u001b[0m                 \u001b[0mpath_length\u001b[0m \u001b[1;33m=\u001b[0m \u001b[0mnx\u001b[0m\u001b[1;33m.\u001b[0m\u001b[0msingle_source_dijkstra_path_length\u001b[0m\u001b[1;33m\u001b[0m\u001b[1;33m\u001b[0m\u001b[0m\n",
      "\u001b[1;32m~\\anaconda3\\lib\\site-packages\\networkx\\algorithms\\shortest_paths\\unweighted.py\u001b[0m in \u001b[0;36msingle_source_shortest_path_length\u001b[1;34m(G, source, cutoff)\u001b[0m\n\u001b[0;32m     64\u001b[0m         \u001b[0mcutoff\u001b[0m \u001b[1;33m=\u001b[0m \u001b[0mfloat\u001b[0m\u001b[1;33m(\u001b[0m\u001b[1;34m'inf'\u001b[0m\u001b[1;33m)\u001b[0m\u001b[1;33m\u001b[0m\u001b[1;33m\u001b[0m\u001b[0m\n\u001b[0;32m     65\u001b[0m     \u001b[0mnextlevel\u001b[0m \u001b[1;33m=\u001b[0m \u001b[1;33m{\u001b[0m\u001b[0msource\u001b[0m\u001b[1;33m:\u001b[0m \u001b[1;36m1\u001b[0m\u001b[1;33m}\u001b[0m\u001b[1;33m\u001b[0m\u001b[1;33m\u001b[0m\u001b[0m\n\u001b[1;32m---> 66\u001b[1;33m     \u001b[1;32mreturn\u001b[0m \u001b[0mdict\u001b[0m\u001b[1;33m(\u001b[0m\u001b[0m_single_shortest_path_length\u001b[0m\u001b[1;33m(\u001b[0m\u001b[0mG\u001b[0m\u001b[1;33m.\u001b[0m\u001b[0madj\u001b[0m\u001b[1;33m,\u001b[0m \u001b[0mnextlevel\u001b[0m\u001b[1;33m,\u001b[0m \u001b[0mcutoff\u001b[0m\u001b[1;33m)\u001b[0m\u001b[1;33m)\u001b[0m\u001b[1;33m\u001b[0m\u001b[1;33m\u001b[0m\u001b[0m\n\u001b[0m\u001b[0;32m     67\u001b[0m \u001b[1;33m\u001b[0m\u001b[0m\n\u001b[0;32m     68\u001b[0m \u001b[1;33m\u001b[0m\u001b[0m\n",
      "\u001b[1;32m~\\anaconda3\\lib\\site-packages\\networkx\\algorithms\\shortest_paths\\unweighted.py\u001b[0m in \u001b[0;36m_single_shortest_path_length\u001b[1;34m(adj, firstlevel, cutoff)\u001b[0m\n\u001b[0;32m     90\u001b[0m             \u001b[1;32mif\u001b[0m \u001b[0mv\u001b[0m \u001b[1;32mnot\u001b[0m \u001b[1;32min\u001b[0m \u001b[0mseen\u001b[0m\u001b[1;33m:\u001b[0m\u001b[1;33m\u001b[0m\u001b[1;33m\u001b[0m\u001b[0m\n\u001b[0;32m     91\u001b[0m                 \u001b[0mseen\u001b[0m\u001b[1;33m[\u001b[0m\u001b[0mv\u001b[0m\u001b[1;33m]\u001b[0m \u001b[1;33m=\u001b[0m \u001b[0mlevel\u001b[0m  \u001b[1;31m# set the level of vertex v\u001b[0m\u001b[1;33m\u001b[0m\u001b[1;33m\u001b[0m\u001b[0m\n\u001b[1;32m---> 92\u001b[1;33m                 \u001b[0mnextlevel\u001b[0m\u001b[1;33m.\u001b[0m\u001b[0mupdate\u001b[0m\u001b[1;33m(\u001b[0m\u001b[0madj\u001b[0m\u001b[1;33m[\u001b[0m\u001b[0mv\u001b[0m\u001b[1;33m]\u001b[0m\u001b[1;33m)\u001b[0m  \u001b[1;31m# add neighbors of v\u001b[0m\u001b[1;33m\u001b[0m\u001b[1;33m\u001b[0m\u001b[0m\n\u001b[0m\u001b[0;32m     93\u001b[0m                 \u001b[1;32myield\u001b[0m \u001b[1;33m(\u001b[0m\u001b[0mv\u001b[0m\u001b[1;33m,\u001b[0m \u001b[0mlevel\u001b[0m\u001b[1;33m)\u001b[0m\u001b[1;33m\u001b[0m\u001b[1;33m\u001b[0m\u001b[0m\n\u001b[0;32m     94\u001b[0m         \u001b[0mlevel\u001b[0m \u001b[1;33m+=\u001b[0m \u001b[1;36m1\u001b[0m\u001b[1;33m\u001b[0m\u001b[1;33m\u001b[0m\u001b[0m\n",
      "\u001b[1;32m~\\anaconda3\\lib\\site-packages\\networkx\\classes\\coreviews.py\u001b[0m in \u001b[0;36m__getitem__\u001b[1;34m(self, name)\u001b[0m\n\u001b[0;32m     79\u001b[0m \u001b[1;33m\u001b[0m\u001b[0m\n\u001b[0;32m     80\u001b[0m     \u001b[1;32mdef\u001b[0m \u001b[0m__getitem__\u001b[0m\u001b[1;33m(\u001b[0m\u001b[0mself\u001b[0m\u001b[1;33m,\u001b[0m \u001b[0mname\u001b[0m\u001b[1;33m)\u001b[0m\u001b[1;33m:\u001b[0m\u001b[1;33m\u001b[0m\u001b[1;33m\u001b[0m\u001b[0m\n\u001b[1;32m---> 81\u001b[1;33m         \u001b[1;32mreturn\u001b[0m \u001b[0mAtlasView\u001b[0m\u001b[1;33m(\u001b[0m\u001b[0mself\u001b[0m\u001b[1;33m.\u001b[0m\u001b[0m_atlas\u001b[0m\u001b[1;33m[\u001b[0m\u001b[0mname\u001b[0m\u001b[1;33m]\u001b[0m\u001b[1;33m)\u001b[0m\u001b[1;33m\u001b[0m\u001b[1;33m\u001b[0m\u001b[0m\n\u001b[0m\u001b[0;32m     82\u001b[0m \u001b[1;33m\u001b[0m\u001b[0m\n\u001b[0;32m     83\u001b[0m     \u001b[1;32mdef\u001b[0m \u001b[0mcopy\u001b[0m\u001b[1;33m(\u001b[0m\u001b[0mself\u001b[0m\u001b[1;33m)\u001b[0m\u001b[1;33m:\u001b[0m\u001b[1;33m\u001b[0m\u001b[1;33m\u001b[0m\u001b[0m\n",
      "\u001b[1;31mKeyboardInterrupt\u001b[0m: "
     ]
    }
   ],
   "source": [
    "X = FE.Build_KleinSquared()\n",
    "\n",
    "experiment(X, spaceName = 'the Klein bottle squared', numRandom = 10, verbose = True)"
   ]
  },
  {
   "cell_type": "markdown",
   "metadata": {},
   "source": [
    "# Minimal Circle"
   ]
  },
  {
   "cell_type": "code",
   "execution_count": 18,
   "metadata": {
    "scrolled": true
   },
   "outputs": [
    {
     "name": "stdout",
     "output_type": "stream",
     "text": [
      "Getting Hasse of {'b', 'a', 'c', 'd'}\n",
      "Trying covers of size 2\n",
      "\tFound cover of size 2\n",
      "\n",
      "The geometric category of the minimal circle is 2\n",
      "Time taken: 0.002 secs\n",
      "\n",
      "Using BFS\n",
      "Starting max is b\n",
      "Using random BFS\n",
      "['a']\n",
      "Using BFS\n",
      "Starting max is a\n",
      "Using random BFS\n",
      "['b']\n",
      "Using BFS\n",
      "Starting max is b\n",
      "Using random BFS\n",
      "['a']\n",
      "Using BFS\n",
      "Starting max is a\n",
      "Using random BFS\n",
      "['b']\n",
      "Using BFS\n",
      "Starting max is b\n",
      "Using random BFS\n",
      "['a']\n",
      "Using BFS\n",
      "Starting max is b\n",
      "Using random BFS\n",
      "['a']\n",
      "Using BFS\n",
      "Starting max is b\n",
      "Using random BFS\n",
      "['a']\n",
      "Using BFS\n",
      "Starting max is a\n",
      "Using random BFS\n",
      "['b']\n",
      "Using BFS\n",
      "Starting max is a\n",
      "Using random BFS\n",
      "['b']\n",
      "Using BFS\n",
      "Starting max is b\n",
      "Using random BFS\n",
      "['a']\n",
      "Distribution of calculated gcat\n",
      "2 :  100.0 %\n",
      "Avg time taken: 0.0011 secs\n"
     ]
    }
   ],
   "source": [
    "X = FE.Build_MinCircle()\n",
    "\n",
    "experiment(X, spaceName = 'the minimal circle', numRandom = 10, verbose = True)"
   ]
  },
  {
   "cell_type": "markdown",
   "metadata": {},
   "source": [
    "# Minimal Torus"
   ]
  },
  {
   "cell_type": "code",
   "execution_count": 19,
   "metadata": {
    "scrolled": true
   },
   "outputs": [
    {
     "name": "stdout",
     "output_type": "stream",
     "text": [
      "Getting Hasse of {'b', 'a', 'c', 'd'}\n",
      "Trying covers of size 4\n",
      "\tFound cover of size 4\n",
      "Trying covers of size 3\n",
      "\tNo cover found of size 3 ... exiting.\n",
      "\n",
      "The geometric category of the minimal torus is 4\n",
      "Time taken: 0.008 secs\n",
      "\n",
      "Using BFS\n",
      "Starting max is a,b\n",
      "Using random BFS\n",
      "['b,b' 'a,a' 'b,a']\n",
      "Using BFS\n",
      "Starting max is b,a\n",
      "Using random BFS\n",
      "['b,b' 'a,b' 'a,a']\n",
      "Using BFS\n",
      "Starting max is b,a\n",
      "Using random BFS\n",
      "['a,a' 'b,b' 'a,b']\n",
      "Using BFS\n",
      "Starting max is b,b\n",
      "Using random BFS\n",
      "['b,a' 'a,b' 'a,a']\n",
      "Using BFS\n",
      "Starting max is b,b\n",
      "Using random BFS\n",
      "['b,a' 'a,b' 'a,a']\n",
      "Using BFS\n",
      "Starting max is b,b\n",
      "Using random BFS\n",
      "['a,a' 'a,b' 'b,a']\n",
      "Using BFS\n",
      "Starting max is b,a\n",
      "Using random BFS\n",
      "['a,a' 'b,b' 'a,b']\n",
      "Using BFS\n",
      "Starting max is b,b\n",
      "Using random BFS\n",
      "['a,a' 'b,a' 'a,b']\n",
      "Using BFS\n",
      "Starting max is a,b\n",
      "Using random BFS\n",
      "['a,a' 'b,a' 'b,b']\n",
      "Using BFS\n",
      "Starting max is b,b\n",
      "Using random BFS\n",
      "['b,a' 'a,b' 'a,a']\n",
      "Distribution of calculated gcat\n",
      "4 :  100.0 %\n",
      "Avg time taken: 0.0121 secs\n"
     ]
    }
   ],
   "source": [
    "X = FE.Build_MinTorus()\n",
    "\n",
    "experiment(X, spaceName = 'the minimal torus', numRandom = 10, verbose = True)"
   ]
  },
  {
   "cell_type": "markdown",
   "metadata": {},
   "source": [
    "# Six Circle"
   ]
  },
  {
   "cell_type": "code",
   "execution_count": 20,
   "metadata": {
    "scrolled": true
   },
   "outputs": [
    {
     "name": "stdout",
     "output_type": "stream",
     "text": [
      "Getting Hasse of {'x0', 'x2', 'x1', 'y2', 'y0', 'y1'}\n",
      "Trying covers of size 3\n",
      "\tFound cover of size 3\n",
      "Trying covers of size 2\n",
      "\tFound cover of size 2\n",
      "\n",
      "The geometric category of the minimal torus is 2\n",
      "Time taken: 0.002 secs\n",
      "\n",
      "Using BFS\n",
      "Starting max is y1\n",
      "Using random BFS\n",
      "['y2' 'y0']\n",
      "Using BFS\n",
      "Starting max is y0\n",
      "Using random BFS\n",
      "['y2' 'y1']\n",
      "Using BFS\n",
      "Starting max is y2\n",
      "Using random BFS\n",
      "['y1' 'y0']\n",
      "Using BFS\n",
      "Starting max is y0\n",
      "Using random BFS\n",
      "['y1' 'y2']\n",
      "Using BFS\n",
      "Starting max is y0\n",
      "Using random BFS\n",
      "['y1' 'y2']\n",
      "Using BFS\n",
      "Starting max is y1\n",
      "Using random BFS\n",
      "['y0' 'y2']\n",
      "Using BFS\n",
      "Starting max is y1\n",
      "Using random BFS\n",
      "['y2' 'y0']\n",
      "Using BFS\n",
      "Starting max is y2\n",
      "Using random BFS\n",
      "['y0' 'y1']\n",
      "Using BFS\n",
      "Starting max is y0\n",
      "Using random BFS\n",
      "['y2' 'y1']\n",
      "Using BFS\n",
      "Starting max is y1\n",
      "Using random BFS\n",
      "['y2' 'y0']\n",
      "Distribution of calculated gcat\n",
      "2 :  100.0 %\n",
      "Avg time taken: 0.0012 secs\n"
     ]
    }
   ],
   "source": [
    "X = FE.Build_SixCircle()\n",
    "\n",
    "experiment(X, spaceName = 'the minimal torus', numRandom = 10, verbose = True)"
   ]
  },
  {
   "cell_type": "markdown",
   "metadata": {},
   "source": [
    "# Six Torus "
   ]
  },
  {
   "cell_type": "code",
   "execution_count": 21,
   "metadata": {
    "scrolled": true
   },
   "outputs": [
    {
     "name": "stdout",
     "output_type": "stream",
     "text": [
      "Getting Hasse of {'x0', 'x2', 'x1', 'y2', 'y0', 'y1'}\n",
      "Trying covers of size 9\n",
      "\tFound cover of size 9\n",
      "Trying covers of size 8\n",
      "\tFound cover of size 8\n",
      "Trying covers of size 7\n",
      "\tNo cover found of size 7 ... exiting.\n",
      "\n",
      "The geometric category of the six torus is 8\n",
      "Time taken: 0.0399 secs\n",
      "\n",
      "Using BFS\n",
      "Starting max is y0,y0\n",
      "Using random BFS\n",
      "['y2,y1' 'y2,y0' 'y0,y2' 'y2,y2' 'y1,y1' 'y0,y1' 'y1,y0' 'y1,y2']\n",
      "Using BFS\n",
      "Starting max is y0,y1\n",
      "Using random BFS\n",
      "['y0,y0' 'y1,y1' 'y2,y1' 'y2,y0' 'y1,y0' 'y1,y2' 'y2,y2' 'y0,y2']\n",
      "Using BFS\n",
      "Starting max is y1,y1\n",
      "Using random BFS\n",
      "['y0,y2' 'y1,y0' 'y0,y1' 'y2,y1' 'y0,y0' 'y1,y2' 'y2,y2' 'y2,y0']\n",
      "Using BFS\n",
      "Starting max is y0,y1\n",
      "Using random BFS\n",
      "['y0,y0' 'y1,y2' 'y1,y0' 'y2,y2' 'y2,y1' 'y2,y0' 'y1,y1' 'y0,y2']\n",
      "Using BFS\n",
      "Starting max is y2,y0\n",
      "Using random BFS\n",
      "['y0,y0' 'y1,y2' 'y2,y1' 'y1,y0' 'y0,y2' 'y2,y2' 'y0,y1' 'y1,y1']\n",
      "Using BFS\n",
      "Starting max is y2,y0\n",
      "Using random BFS\n",
      "['y1,y0' 'y0,y2' 'y2,y1' 'y0,y1' 'y0,y0' 'y1,y2' 'y1,y1' 'y2,y2']\n",
      "Using BFS\n",
      "Starting max is y0,y1\n",
      "Using random BFS\n",
      "['y2,y2' 'y2,y0' 'y1,y0' 'y0,y0' 'y0,y2' 'y2,y1' 'y1,y1' 'y1,y2']\n",
      "Using BFS\n",
      "Starting max is y0,y2\n",
      "Using random BFS\n",
      "['y1,y0' 'y1,y1' 'y2,y1' 'y1,y2' 'y2,y2' 'y2,y0' 'y0,y0' 'y0,y1']\n",
      "Using BFS\n",
      "Starting max is y0,y0\n",
      "Using random BFS\n",
      "['y1,y1' 'y1,y2' 'y0,y1' 'y2,y0' 'y2,y2' 'y1,y0' 'y0,y2' 'y2,y1']\n",
      "Using BFS\n",
      "Starting max is y0,y1\n",
      "Using random BFS\n",
      "['y1,y1' 'y2,y2' 'y2,y1' 'y0,y0' 'y1,y0' 'y0,y2' 'y1,y2' 'y2,y0']\n",
      "Distribution of calculated gcat\n",
      "3 :  80.0 %\n",
      "4 :  20.0 %\n",
      "Avg time taken: 0.1109 secs\n",
      "\n",
      "---WARNING---\n",
      "Brute force calculated: 8\n",
      "BFS calculated: 3\n"
     ]
    }
   ],
   "source": [
    "\n",
    "experiment(X, spaceName = 'the six torus', numRandom = 10, verbose = True)"
   ]
  },
  {
   "cell_type": "code",
   "execution_count": 25,
   "metadata": {},
   "outputs": [
    {
     "name": "stdout",
     "output_type": "stream",
     "text": [
      "Getting Hasse of {'x0', 'x2', 'x1', 'y2', 'y0', 'y1'}\n"
     ]
    },
    {
     "data": {
      "image/png": "[encoded data removed]",
      "text/plain": [
       "<Figure size 432x288 with 1 Axes>"
      ]
     },
     "metadata": {},
     "output_type": "display_data"
    }
   ],
   "source": [
    "X = FE.Build_SixTorus()\n",
    "\n",
    "X.drawHasse()"
   ]
  },
  {
   "cell_type": "markdown",
   "metadata": {},
   "source": [
    "# Ten Circle"
   ]
  },
  {
   "cell_type": "code",
   "execution_count": 22,
   "metadata": {
    "scrolled": true
   },
   "outputs": [
    {
     "name": "stdout",
     "output_type": "stream",
     "text": [
      "Getting Hasse of {'x0', 'x2', 'x1', 'x3', 'x4', 'y2', 'y3', 'y4', 'y0', 'y1'}\n",
      "Trying covers of size 5\n",
      "\tFound cover of size 5\n",
      "Trying covers of size 4\n",
      "\tFound cover of size 4\n",
      "Trying covers of size 3\n",
      "\tFound cover of size 3\n",
      "Trying covers of size 2\n",
      "\tFound cover of size 2\n",
      "\n",
      "The geometric category of the ten circle is 2\n",
      "Time taken: 0.007 secs\n",
      "\n",
      "Using BFS\n",
      "Starting max is y2\n",
      "Using random BFS\n",
      "['y3' 'y1' 'y4' 'y0']\n",
      "Using BFS\n",
      "Starting max is y4\n",
      "Using random BFS\n",
      "['y3' 'y0' 'y2' 'y1']\n",
      "Using BFS\n",
      "Starting max is y1\n",
      "Using random BFS\n",
      "['y0' 'y2' 'y4' 'y3']\n",
      "Using BFS\n",
      "Starting max is y3\n",
      "Using random BFS\n",
      "['y2' 'y4' 'y1' 'y0']\n",
      "Using BFS\n",
      "Starting max is y2\n",
      "Using random BFS\n",
      "['y1' 'y3' 'y0' 'y4']\n",
      "Using BFS\n",
      "Starting max is y0\n",
      "Using random BFS\n",
      "['y4' 'y1' 'y2' 'y3']\n",
      "Using BFS\n",
      "Starting max is y1\n",
      "Using random BFS\n",
      "['y0' 'y2' 'y4' 'y3']\n",
      "Using BFS\n",
      "Starting max is y1\n",
      "Using random BFS\n",
      "['y0' 'y2' 'y3' 'y4']\n",
      "Using BFS\n",
      "Starting max is y4\n",
      "Using random BFS\n",
      "['y3' 'y0' 'y1' 'y2']\n",
      "Using BFS\n",
      "Starting max is y1\n",
      "Using random BFS\n",
      "['y2' 'y0' 'y3' 'y4']\n",
      "Distribution of calculated gcat\n",
      "2 :  100.0 %\n",
      "Avg time taken: 0.0043 secs\n"
     ]
    }
   ],
   "source": [
    "X = FE.Build_TenCircle()\n",
    "\n",
    "experiment(X, spaceName = 'the ten circle', numRandom = 10, verbose = True)"
   ]
  },
  {
   "cell_type": "markdown",
   "metadata": {},
   "source": [
    "# Ten torus"
   ]
  },
  {
   "cell_type": "code",
   "execution_count": 23,
   "metadata": {
    "scrolled": true
   },
   "outputs": [
    {
     "name": "stdout",
     "output_type": "stream",
     "text": [
      "Getting Hasse of {'x0', 'x2', 'x1', 'x3', 'x4', 'y2', 'y3', 'y4', 'y0', 'y1'}\n",
      "Trying covers of size 25\n",
      "\tFound cover of size 25\n",
      "Trying covers of size 24\n",
      "\tNo cover found of size 24 ... exiting.\n",
      "\n",
      "The geometric category of the ten torus is 25\n",
      "Time taken: 0.0409 secs\n",
      "\n",
      "Using BFS\n",
      "Starting max is y0,y2\n",
      "Using random BFS\n",
      "['y0,y1' 'y4,y1' 'y1,y1' 'y4,y2' 'y1,y2' 'y0,y3' 'y1,y3' 'y4,y3' 'y3,y4'\n",
      " 'y0,y0' 'y4,y4' 'y2,y1' 'y3,y0' 'y1,y0' 'y4,y0' 'y3,y3' 'y2,y3' 'y0,y4'\n",
      " 'y2,y2' 'y1,y4' 'y3,y2' 'y3,y1' 'y2,y0' 'y2,y4']\n",
      "Using BFS\n",
      "Starting max is y0,y1\n",
      "Using random BFS\n",
      "['y0,y2' 'y4,y1' 'y4,y0' 'y1,y2' 'y4,y2' 'y0,y0' 'y1,y0' 'y1,y1' 'y2,y1'\n",
      " 'y1,y3' 'y4,y4' 'y3,y1' 'y0,y3' 'y3,y0' 'y2,y4' 'y3,y2' 'y4,y3' 'y3,y4'\n",
      " 'y0,y4' 'y2,y2' 'y1,y4' 'y3,y3' 'y2,y0' 'y2,y3']\n",
      "Using BFS\n",
      "Starting max is y2,y3\n",
      "Using random BFS\n",
      "['y3,y3' 'y2,y2' 'y3,y2' 'y1,y2' 'y2,y4' 'y1,y4' 'y3,y4' 'y1,y3' 'y2,y0'\n",
      " 'y1,y0' 'y4,y2' 'y4,y1' 'y0,y3' 'y0,y2' 'y4,y4' 'y3,y1' 'y0,y0' 'y4,y0'\n",
      " 'y4,y3' 'y3,y0' 'y0,y4' 'y0,y1' 'y1,y1' 'y2,y1']\n",
      "Using BFS\n",
      "Starting max is y1,y1\n",
      "Using random BFS\n",
      "['y2,y2' 'y0,y0' 'y2,y0' 'y0,y1' 'y1,y2' 'y0,y2' 'y1,y0' 'y2,y1' 'y3,y3'\n",
      " 'y1,y4' 'y4,y4' 'y2,y3' 'y4,y3' 'y1,y3' 'y3,y2' 'y4,y2' 'y0,y3' 'y2,y4'\n",
      " 'y4,y1' 'y3,y0' 'y3,y1' 'y3,y4' 'y0,y4' 'y4,y0']\n",
      "Using BFS\n",
      "Starting max is y3,y1\n",
      "Using random BFS\n",
      "['y3,y0' 'y4,y1' 'y4,y2' 'y2,y2' 'y3,y2' 'y2,y0' 'y4,y0' 'y2,y1' 'y3,y4'\n",
      " 'y2,y3' 'y1,y3' 'y0,y3' 'y1,y2' 'y0,y0' 'y1,y4' 'y0,y1' 'y3,y3' 'y0,y2'\n",
      " 'y1,y0' 'y4,y3' 'y0,y4' 'y1,y1' 'y4,y4' 'y2,y4']\n",
      "Using BFS\n",
      "Starting max is y2,y3\n",
      "Using random BFS\n",
      "['y1,y3' 'y2,y4' 'y3,y4' 'y1,y2' 'y1,y4' 'y2,y2' 'y3,y3' 'y3,y2' 'y4,y4'\n",
      " 'y0,y4' 'y0,y2' 'y0,y1' 'y0,y0' 'y1,y0' 'y4,y0' 'y3,y0' 'y2,y0' 'y3,y1'\n",
      " 'y2,y1' 'y4,y3' 'y0,y3' 'y1,y1' 'y4,y1' 'y4,y2']\n",
      "Using BFS\n",
      "Starting max is y4,y1\n",
      "Using random BFS\n",
      "['y0,y0' 'y3,y1' 'y0,y2' 'y0,y1' 'y4,y0' 'y4,y2' 'y3,y2' 'y3,y0' 'y1,y3'\n",
      " 'y4,y3' 'y2,y1' 'y0,y4' 'y1,y1' 'y2,y2' 'y1,y2' 'y1,y0' 'y3,y3' 'y2,y3'\n",
      " 'y1,y4' 'y2,y0' 'y3,y4' 'y2,y4' 'y0,y3' 'y4,y4']\n",
      "Using BFS\n",
      "Starting max is y3,y3\n",
      "Using random BFS\n",
      "['y3,y4' 'y4,y3' 'y2,y2' 'y3,y2' 'y4,y2' 'y4,y4' 'y2,y3' 'y2,y4' 'y3,y0'\n",
      " 'y1,y3' 'y1,y4' 'y1,y0' 'y1,y1' 'y3,y1' 'y0,y1' 'y2,y1' 'y0,y0' 'y2,y0'\n",
      " 'y4,y0' 'y1,y2' 'y0,y4' 'y0,y2' 'y4,y1' 'y0,y3']\n",
      "Using BFS\n",
      "Starting max is y4,y1\n",
      "Using random BFS\n",
      "['y3,y0' 'y4,y2' 'y0,y1' 'y3,y2' 'y0,y2' 'y0,y0' 'y3,y1' 'y4,y0' 'y0,y4'\n",
      " 'y4,y4' 'y1,y2' 'y1,y1' 'y2,y1' 'y1,y4' 'y4,y3' 'y2,y0' 'y2,y2' 'y0,y3'\n",
      " 'y2,y3' 'y1,y3' 'y1,y0' 'y2,y4' 'y3,y3' 'y3,y4']\n",
      "Using BFS\n",
      "Starting max is y2,y4\n",
      "Using random BFS\n",
      "['y3,y4' 'y1,y4' 'y3,y3' 'y1,y3' 'y2,y3' 'y3,y0' 'y2,y0' 'y1,y0' 'y4,y2'\n",
      " 'y4,y1' 'y0,y1' 'y2,y1' 'y4,y3' 'y3,y2' 'y4,y4' 'y0,y4' 'y1,y2' 'y0,y3'\n",
      " 'y1,y1' 'y3,y1' 'y4,y0' 'y0,y2' 'y0,y0' 'y2,y2']\n",
      "Distribution of calculated gcat\n",
      "3 :  100.0 %\n",
      "Avg time taken: 1.6768 secs\n",
      "\n",
      "---WARNING---\n",
      "Brute force calculated: 25\n",
      "BFS calculated: 3\n"
     ]
    }
   ],
   "source": [
    "X = FE.Build_TenTorus()\n",
    "\n",
    "experiment(X, spaceName = 'the ten torus', numRandom = 10, verbose = True)"
   ]
  },
  {
   "cell_type": "code",
   "execution_count": null,
   "metadata": {},
   "outputs": [],
   "source": []
  }
 ],
 "metadata": {
  "kernelspec": {
   "display_name": "Python 3",
   "language": "python",
   "name": "python3"
  },
  "language_info": {
   "codemirror_mode": {
    "name": "ipython",
    "version": 3
   },
   "file_extension": ".py",
   "mimetype": "text/x-python",
   "name": "python",
   "nbconvert_exporter": "python",
   "pygments_lexer": "ipython3",
   "version": "3.7.6"
  }
 },
 "nbformat": 4,
 "nbformat_minor": 4
}
