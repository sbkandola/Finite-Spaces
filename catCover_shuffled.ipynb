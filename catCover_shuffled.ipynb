{
 "cells": [
  {
   "cell_type": "code",
   "execution_count": 1,
   "metadata": {},
   "outputs": [],
   "source": [
    "import FiniteSpace_Examples as FE\n",
    "import FiniteSpaces_Class as FS\n",
    "import Brute_gcat as B\n",
    "\n",
    "from itertools import combinations\n",
    "from imp import reload\n",
    "import numpy as np\n",
    "from IPython.display import display, clear_output\n",
    "import networkx as nx\n",
    "import operator\n",
    "import random\n",
    "import time"
   ]
  },
  {
   "cell_type": "code",
   "execution_count": 2,
   "metadata": {},
   "outputs": [
    {
     "data": {
      "text/plain": [
       "<module 'FiniteSpaces_Class' from 'F:\\\\Dropbox\\\\Math\\\\ResearchProjects\\\\FiniteTopology\\\\Code\\\\Finite-Spaces\\\\FiniteSpaces_Class.py'>"
      ]
     },
     "execution_count": 2,
     "metadata": {},
     "output_type": "execute_result"
    }
   ],
   "source": [
    "reload(B)\n",
    "reload(FS)\n",
    "reload(FE)\n",
    "reload(FE.FS)"
   ]
  },
  {
   "cell_type": "code",
   "execution_count": 3,
   "metadata": {},
   "outputs": [],
   "source": [
    "def printCount(list,percent = True):\n",
    "    entries = set(list)\n",
    "    n = len(list)\n",
    "    print('Distribution of calculated gcat')\n",
    "    for e in entries:\n",
    "        print(e,': ', list.count(e)/n * 100,\"%\")"
   ]
  },
  {
   "cell_type": "code",
   "execution_count": 4,
   "metadata": {},
   "outputs": [],
   "source": [
    "def experiment(space, \n",
    "               spaceName = 'X', \n",
    "               doBrute = True, \n",
    "               doRandom = True, \n",
    "               numRandom = 100,\n",
    "               verbose = True):\n",
    "    \n",
    "    # Run brute force version \n",
    "    if doBrute:\n",
    "        start = time.time()\n",
    "        gcatX = B.get_brute_gcat(X, verbose = verbose)\n",
    "        end = time.time()\n",
    "        print('\\nThe geometric category of', spaceName, 'is', gcatX)\n",
    "        print('Time taken:', round(end-start,4), 'secs\\n')\n",
    "    \n",
    "    if doRandom:\n",
    "        catX = list()\n",
    "        times = list()\n",
    "\n",
    "        for i in range(numRandom):\n",
    "#             clear_output()\n",
    "            start = time.time()\n",
    "            catX.append(len(X.shuffleCatCover(randomizeStart = True,randomizeStyle = \"BFS-random\",verbose = verbose)))\n",
    "            end = time.time()\n",
    "            times.append(end-start)\n",
    "        catX.count(gcatX)\n",
    "        printCount(catX)\n",
    "        print('Avg time taken:', round(np.average(times),4), 'secs')"
   ]
  },
  {
   "cell_type": "markdown",
   "metadata": {},
   "source": [
    "# Klein Bottle"
   ]
  },
  {
   "cell_type": "code",
   "execution_count": 5,
   "metadata": {
    "scrolled": false
   },
   "outputs": [
    {
     "name": "stdout",
     "output_type": "stream",
     "text": [
      "Getting Hasse of {'b3', 'c4', 'b5', 'b7', 'a2', 'a3', 'b1', 'b4', 'b2', 'a1', 'c2', 'b8', 'b6', 'c3', 'c1', 'a4'}\n",
      "\n",
      "The geometric category of the Klein bottle is 4\n",
      "Time taken: 0.0359 secs\n",
      "\n",
      "Distribution of calculated gcat\n",
      "4 :  100.0 %\n",
      "Avg time taken: 0.0122 secs\n"
     ]
    }
   ],
   "source": [
    "X = FE.Build_Klein()\n",
    "\n",
    "experiment(X, spaceName = 'the Klein bottle', numRandom = 10, verbose = False)"
   ]
  },
  {
   "cell_type": "markdown",
   "metadata": {},
   "source": [
    "# Klein Bottle Squared"
   ]
  },
  {
   "cell_type": "code",
   "execution_count": null,
   "metadata": {
    "scrolled": false
   },
   "outputs": [
    {
     "name": "stdout",
     "output_type": "stream",
     "text": [
      "Getting Hasse of {'b3', 'c4', 'b5', 'b7', 'a2', 'a3', 'b1', 'b4', 'b2', 'a1', 'c2', 'b8', 'b6', 'c3', 'c1', 'a4'}\n",
      "Trying covers of size 16\n",
      "\tFound cover of size 16\n",
      "Trying covers of size 15\n"
     ]
    }
   ],
   "source": [
    "X = FE.Build_KleinSquared()\n",
    "\n",
    "experiment(X, spaceName = 'the Klein bottle squared', numRandom = 10, verbose = True)"
   ]
  },
  {
   "cell_type": "markdown",
   "metadata": {},
   "source": [
    "# Minimal Circle"
   ]
  },
  {
   "cell_type": "code",
   "execution_count": null,
   "metadata": {
    "scrolled": false
   },
   "outputs": [],
   "source": [
    "X = FE.Build_MinCircle()\n",
    "\n",
    "experiment(X, spaceName = 'the minimal circle', numRandom = 10, verbose = True)"
   ]
  },
  {
   "cell_type": "markdown",
   "metadata": {},
   "source": [
    "# Minimal Torus"
   ]
  },
  {
   "cell_type": "code",
   "execution_count": null,
   "metadata": {
    "scrolled": false
   },
   "outputs": [],
   "source": [
    "X = FE.Build_MinTorus()\n",
    "\n",
    "experiment(X, spaceName = 'the minimal torus', numRandom = 10, verbose = True)"
   ]
  },
  {
   "cell_type": "markdown",
   "metadata": {},
   "source": [
    "# Six Circle"
   ]
  },
  {
   "cell_type": "code",
   "execution_count": null,
   "metadata": {
    "scrolled": true
   },
   "outputs": [],
   "source": [
    "X = FE.Build_SixCircle()\n",
    "\n",
    "experiment(X, spaceName = 'the minimal torus', numRandom = 10, verbose = True)"
   ]
  },
  {
   "cell_type": "markdown",
   "metadata": {},
   "source": [
    "# Six Torus "
   ]
  },
  {
   "cell_type": "code",
   "execution_count": null,
   "metadata": {
    "scrolled": false
   },
   "outputs": [],
   "source": [
    "X = FE.Build_SixTorus()\n",
    "\n",
    "experiment(X, spaceName = 'the six torus', numRandom = 10, verbose = True)"
   ]
  },
  {
   "cell_type": "markdown",
   "metadata": {},
   "source": [
    "# Ten Circle"
   ]
  },
  {
   "cell_type": "code",
   "execution_count": null,
   "metadata": {
    "scrolled": true
   },
   "outputs": [],
   "source": [
    "X = FE.Build_TenCircle()\n",
    "\n",
    "experiment(X, spaceName = 'the ten circle', numRandom = 10, verbose = True)"
   ]
  },
  {
   "cell_type": "markdown",
   "metadata": {},
   "source": [
    "# Ten torus"
   ]
  },
  {
   "cell_type": "code",
   "execution_count": null,
   "metadata": {
    "scrolled": true
   },
   "outputs": [],
   "source": [
    "X = FE.Build_TenTorus()\n",
    "\n",
    "experiment(X, spaceName = 'the ten torus', numRandom = 10, verbose = True)"
   ]
  },
  {
   "cell_type": "code",
   "execution_count": null,
   "metadata": {},
   "outputs": [],
   "source": []
  }
 ],
 "metadata": {
  "kernelspec": {
   "display_name": "Python 3",
   "language": "python",
   "name": "python3"
  },
  "language_info": {
   "codemirror_mode": {
    "name": "ipython",
    "version": 3
   },
   "file_extension": ".py",
   "mimetype": "text/x-python",
   "name": "python",
   "nbconvert_exporter": "python",
   "pygments_lexer": "ipython3",
   "version": "3.7.6"
  }
 },
 "nbformat": 4,
 "nbformat_minor": 4
}
