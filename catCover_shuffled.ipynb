{
 "cells": [
  {
   "cell_type": "code",
   "execution_count": 2,
   "metadata": {},
   "outputs": [],
   "source": [
    "import FiniteSpace_Examples as FE\n",
    "import FiniteSpaces_Class as FS\n",
    "import Brute_gcat as B"
   ]
  },
  {
   "cell_type": "code",
   "execution_count": 3,
   "metadata": {},
   "outputs": [],
   "source": [
    "def printCount(list,percent = True):\n",
    "    entries = set(list)\n",
    "    n = len(list)\n",
    "    for e in entries:\n",
    "        print(e,': ', list.count(e)/n * 100,\"%\")"
   ]
  },
  {
   "cell_type": "markdown",
   "metadata": {},
   "source": [
    "# Klein Bottle"
   ]
  },
  {
   "cell_type": "code",
   "execution_count": 4,
   "metadata": {},
   "outputs": [
    {
     "name": "stdout",
     "output_type": "stream",
     "text": [
      "Getting Hasse of {'b6', 'b8', 'b2', 'b4', 'b7', 'b1', 'c1', 'c3', 'a3', 'c4', 'a2', 'c2', 'b3', 'b5', 'a4', 'a1'}\n",
      "CPU times: user 1.17 s, sys: 3.55 ms, total: 1.18 s\n",
      "Wall time: 1.17 s\n"
     ]
    }
   ],
   "source": [
    "%%time\n",
    "\n",
    "K = FE.Build_Klein()\n",
    "catK = list()\n",
    "gcatK = B.get_brute_gcat(K)\n",
    "for i in range(100):\n",
    "    catK.append(len(K.shuffleCatCover()))\n"
   ]
  },
  {
   "cell_type": "code",
   "execution_count": 5,
   "metadata": {},
   "outputs": [
    {
     "name": "stdout",
     "output_type": "stream",
     "text": [
      "4 :  100.0 %\n"
     ]
    }
   ],
   "source": [
    "catK.count(gcatK)\n",
    "printCount(catK)"
   ]
  },
  {
   "cell_type": "markdown",
   "metadata": {},
   "source": [
    "# Klein Bottle Squared"
   ]
  },
  {
   "cell_type": "code",
   "execution_count": null,
   "metadata": {},
   "outputs": [
    {
     "name": "stdout",
     "output_type": "stream",
     "text": [
      "Getting Hasse of {'b6', 'b8', 'b2', 'b4', 'b7', 'b1', 'c1', 'c3', 'a3', 'c4', 'a2', 'c2', 'b3', 'b5', 'a4', 'a1'}\n"
     ]
    }
   ],
   "source": [
    "%%time\n",
    "\n",
    "K2 = FE.Build_KleinSquared()\n",
    "catK2 = list()\n",
    "gcatK2 = B.get_brute_gcat(K2)\n",
    "for i in range(100):\n",
    "    catK2.append(len(K2.shuffleCatCover()))"
   ]
  },
  {
   "cell_type": "code",
   "execution_count": null,
   "metadata": {},
   "outputs": [],
   "source": [
    "gcatK2"
   ]
  },
  {
   "cell_type": "code",
   "execution_count": null,
   "metadata": {},
   "outputs": [],
   "source": [
    "catK2.count(gcatK2)\n",
    "printCount(catK2)"
   ]
  },
  {
   "cell_type": "markdown",
   "metadata": {},
   "source": [
    "# Minimal Circle"
   ]
  },
  {
   "cell_type": "code",
   "execution_count": null,
   "metadata": {},
   "outputs": [],
   "source": [
    "%%time \n",
    "\n",
    "S = FE.Build_MinCircle()\n",
    "catS = list()\n",
    "gcatS = B.get_brute_gcat(S)\n",
    "for i in range(100):\n",
    "    catS.append(len(S.shuffleCatCover()))\n"
   ]
  },
  {
   "cell_type": "code",
   "execution_count": null,
   "metadata": {},
   "outputs": [],
   "source": [
    "catS.count(gcatS)\n",
    "printCount(catK)"
   ]
  },
  {
   "cell_type": "markdown",
   "metadata": {},
   "source": [
    "# Minimal Torus"
   ]
  },
  {
   "cell_type": "code",
   "execution_count": null,
   "metadata": {},
   "outputs": [],
   "source": [
    "%%time\n",
    "\n",
    "T4 = FE.Build_MinTorus()\n",
    "catT4 = list()\n",
    "gcatT4 = B.get_brute_gcat(T4)\n",
    "for i in range(100):\n",
    "    catT4.append(len(T4.shuffleCatCover()))\n"
   ]
  },
  {
   "cell_type": "code",
   "execution_count": null,
   "metadata": {},
   "outputs": [],
   "source": [
    "print(catT4.count(gcatT4))\n",
    "printCount(catT4)"
   ]
  },
  {
   "cell_type": "markdown",
   "metadata": {},
   "source": [
    "# Six Circle"
   ]
  },
  {
   "cell_type": "code",
   "execution_count": null,
   "metadata": {},
   "outputs": [],
   "source": [
    "%%time\n",
    "S3 = FE.Build_SixCircle()\n",
    "catS3 = list()\n",
    "gcatS3 = B.get_brute_gcat(S3)\n",
    "for i in range(100):\n",
    "    catS3.append(len(S3.shuffleCatCover()))\n",
    "catS3.count(gcatS3)"
   ]
  },
  {
   "cell_type": "markdown",
   "metadata": {},
   "source": [
    "# Six Torus "
   ]
  },
  {
   "cell_type": "code",
   "execution_count": null,
   "metadata": {},
   "outputs": [],
   "source": [
    "%%time\n",
    "T9 = FE.Build_SixTorus()\n",
    "catT9 = list()\n",
    "gcatT9 = B.get_brute_gcat(T9)\n",
    "for i in range(100):\n",
    "    catT9.append(len(T9.shuffleCatCover()))\n"
   ]
  },
  {
   "cell_type": "code",
   "execution_count": null,
   "metadata": {},
   "outputs": [],
   "source": [
    "print(catT9.count(gcatT9))\n",
    "printCount(catT9)"
   ]
  },
  {
   "cell_type": "markdown",
   "metadata": {},
   "source": [
    "# Ten Circle"
   ]
  },
  {
   "cell_type": "code",
   "execution_count": null,
   "metadata": {},
   "outputs": [],
   "source": [
    "%%time\n",
    "\n",
    "S5 = FE.Build_TenCircle()\n",
    "catS5 = list()\n",
    "gcatS5 = B.get_brute_gcat(S5)\n",
    "for i in range(100):\n",
    "    catS5.append(len(S5.shuffleCatCover()))\n"
   ]
  },
  {
   "cell_type": "code",
   "execution_count": null,
   "metadata": {},
   "outputs": [],
   "source": [
    "print(catS5.count(gcatS5))\n",
    "printCount(catS5)"
   ]
  },
  {
   "cell_type": "markdown",
   "metadata": {},
   "source": [
    "# Ten torus"
   ]
  },
  {
   "cell_type": "code",
   "execution_count": null,
   "metadata": {},
   "outputs": [],
   "source": [
    "%%time\n",
    "\n",
    "T25 = FE.Build_TenTorus()\n",
    "catT25 = list()\n"
   ]
  },
  {
   "cell_type": "code",
   "execution_count": null,
   "metadata": {},
   "outputs": [],
   "source": [
    "%%time \n",
    "for i in range(100):\n",
    "    print(i)\n",
    "    catT25.append(len(T25.shuffleCatCover()))"
   ]
  },
  {
   "cell_type": "code",
   "execution_count": null,
   "metadata": {},
   "outputs": [],
   "source": [
    "printCount(catT25)"
   ]
  },
  {
   "cell_type": "code",
   "execution_count": null,
   "metadata": {},
   "outputs": [],
   "source": [
    "%%time\n",
    "\n",
    "# This next line might run forever!\n",
    "\n",
    "gcatT25 = B.get_brute_gcat(T25)"
   ]
  },
  {
   "cell_type": "code",
   "execution_count": null,
   "metadata": {},
   "outputs": [],
   "source": [
    "catT25.count(gcatT25)\n"
   ]
  },
  {
   "cell_type": "code",
   "execution_count": null,
   "metadata": {},
   "outputs": [],
   "source": []
  }
 ],
 "metadata": {
  "kernelspec": {
   "display_name": "Python 3",
   "language": "python",
   "name": "python3"
  },
  "language_info": {
   "codemirror_mode": {
    "name": "ipython",
    "version": 3
   },
   "file_extension": ".py",
   "mimetype": "text/x-python",
   "name": "python",
   "nbconvert_exporter": "python",
   "pygments_lexer": "ipython3",
   "version": "3.7.6"
  }
 },
 "nbformat": 4,
 "nbformat_minor": 4
}
