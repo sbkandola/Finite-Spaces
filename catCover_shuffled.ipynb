{
 "cells": [
  {
   "cell_type": "code",
   "execution_count": 1,
   "metadata": {},
   "outputs": [],
   "source": [
    "import FiniteSpace_Examples as FE\n",
    "import FiniteSpaces_Class as FS\n",
    "import Brute_gcat as B\n",
    "\n",
    "from itertools import combinations\n",
    "from imp import reload\n",
    "import numpy as np\n",
    "from IPython.display import display, clear_output\n",
    "import networkx as nx\n",
    "import operator\n",
    "import random\n",
    "import time"
   ]
  },
  {
   "cell_type": "code",
   "execution_count": 2,
   "metadata": {},
   "outputs": [
    {
     "data": {
      "text/plain": [
       "<module 'FiniteSpaces_Class' from 'F:\\\\Dropbox\\\\Math\\\\ResearchProjects\\\\FiniteTopology\\\\Code\\\\Finite-Spaces\\\\FiniteSpaces_Class.py'>"
      ]
     },
     "execution_count": 2,
     "metadata": {},
     "output_type": "execute_result"
    }
   ],
   "source": [
    "reload(B)\n",
    "reload(FS)\n",
    "reload(FE)\n",
    "reload(FE.FS)"
   ]
  },
  {
   "cell_type": "code",
   "execution_count": 3,
   "metadata": {},
   "outputs": [],
   "source": [
    "def printCount(list,percent = True):\n",
    "    entries = set(list)\n",
    "    n = len(list)\n",
    "    print('Distribution of calculated gcat')\n",
    "    for e in entries:\n",
    "        print(e,': ', list.count(e)/n * 100,\"%\")"
   ]
  },
  {
   "cell_type": "code",
   "execution_count": 4,
   "metadata": {},
   "outputs": [],
   "source": [
    "def experiment(space, \n",
    "               spaceName = 'X', \n",
    "               doBrute = True, \n",
    "               doRandom = True, \n",
    "               numRandom = 100,\n",
    "               verbose = True):\n",
    "    \n",
    "    # Run brute force version \n",
    "    if doBrute:\n",
    "        start = time.time()\n",
    "        gcatX = B.get_brute_gcat(X, verbose = verbose)\n",
    "        end = time.time()\n",
    "        print('\\nThe geometric category of', spaceName, 'is', gcatX)\n",
    "        print('Time taken:', round(end-start,4), 'secs\\n')\n",
    "    \n",
    "    if doRandom:\n",
    "        catX = list()\n",
    "        times = list()\n",
    "\n",
    "        for i in range(numRandom):\n",
    "#             clear_output()\n",
    "            start = time.time()\n",
    "            catX.append(len(X.shuffleCatCover(randomizeStart = True,randomizeStyle = \"BFS-random\",verbose = verbose)))\n",
    "            end = time.time()\n",
    "            times.append(end-start)\n",
    "        catX.count(gcatX)\n",
    "        printCount(catX)\n",
    "        print('Avg time taken:', round(np.average(times),4), 'secs')"
   ]
  },
  {
   "cell_type": "markdown",
   "metadata": {},
   "source": [
    "# Klein Bottle"
   ]
  },
  {
   "cell_type": "code",
   "execution_count": 5,
   "metadata": {
    "scrolled": false
   },
   "outputs": [
    {
     "name": "stdout",
     "output_type": "stream",
     "text": [
      "Getting Hasse of {'a2', 'b6', 'c3', 'a1', 'c4', 'b7', 'b8', 'b4', 'b3', 'c2', 'b2', 'b1', 'a4', 'b5', 'c1', 'a3'}\n",
      "Trying covers of size 4\n",
      "\tFound cover of size 4\n",
      "Trying covers of size 3\n",
      "\tNo cover found of size 3 ... exiting.\n",
      "\n",
      "The geometric category of the Klein bottle is 4\n",
      "Time taken: 0.009 secs\n",
      "\n",
      "Using BFS\n",
      "Starting max is a2\n",
      "Using random BFS\n",
      "['a1' 'a4' 'a3']\n",
      "Using BFS\n",
      "Starting max is a4\n",
      "Using random BFS\n",
      "['a1' 'a2' 'a3']\n",
      "Using BFS\n",
      "Starting max is a4\n",
      "Using random BFS\n",
      "['a3' 'a1' 'a2']\n",
      "Using BFS\n",
      "Starting max is a4\n",
      "Using random BFS\n",
      "['a2' 'a3' 'a1']\n",
      "Using BFS\n",
      "Starting max is a3\n",
      "Using random BFS\n",
      "['a2' 'a4' 'a1']\n",
      "Using BFS\n",
      "Starting max is a4\n",
      "Using random BFS\n",
      "['a1' 'a3' 'a2']\n",
      "Using BFS\n",
      "Starting max is a2\n",
      "Using random BFS\n",
      "['a1' 'a3' 'a4']\n",
      "Using BFS\n",
      "Starting max is a1\n",
      "Using random BFS\n",
      "['a3' 'a4' 'a2']\n",
      "Using BFS\n",
      "Starting max is a2\n",
      "Using random BFS\n",
      "['a3' 'a4' 'a1']\n",
      "Using BFS\n",
      "Starting max is a1\n",
      "Using random BFS\n",
      "['a4' 'a2' 'a3']\n",
      "Distribution of calculated gcat\n",
      "4 :  100.0 %\n",
      "Avg time taken: 0.0123 secs\n"
     ]
    }
   ],
   "source": [
    "X = FE.Build_Klein()\n",
    "\n",
    "experiment(X, spaceName = 'the Klein bottle', numRandom = 10, verbose = True)"
   ]
  },
  {
   "cell_type": "markdown",
   "metadata": {},
   "source": [
    "# Klein Bottle Squared"
   ]
  },
  {
   "cell_type": "code",
   "execution_count": 6,
   "metadata": {
    "scrolled": false
   },
   "outputs": [
    {
     "name": "stdout",
     "output_type": "stream",
     "text": [
      "Getting Hasse of {'a2', 'b6', 'c3', 'a1', 'c4', 'b7', 'b8', 'b4', 'b3', 'c2', 'b2', 'b1', 'a4', 'b5', 'c1', 'a3'}\n",
      "Trying covers of size 16\n",
      "\tFound cover of size 16\n",
      "Trying covers of size 15\n",
      "\tNo cover found of size 15 ... exiting.\n",
      "\n",
      "The geometric category of the Klein bottle squared is 16\n",
      "Time taken: 2.6669 secs\n",
      "\n",
      "Using BFS\n",
      "Starting max is a1,a4\n",
      "Using random BFS\n",
      "['a4,a3' 'a3,a4' 'a2,a2' 'a3,a3' 'a4,a1' 'a2,a3' 'a4,a4' 'a4,a2' 'a2,a4'\n",
      " 'a1,a3' 'a3,a2' 'a3,a1' 'a1,a1' 'a1,a2' 'a2,a1']\n",
      "Using BFS\n",
      "Starting max is a2,a4\n",
      "Using random BFS\n",
      "['a1,a1' 'a1,a2' 'a4,a4' 'a4,a1' 'a3,a4' 'a3,a1' 'a4,a2' 'a1,a4' 'a2,a3'\n",
      " 'a4,a3' 'a3,a2' 'a1,a3' 'a2,a2' 'a3,a3' 'a2,a1']\n",
      "Using BFS\n",
      "Starting max is a3,a1\n",
      "Using random BFS\n",
      "['a1,a3' 'a1,a2' 'a4,a4' 'a2,a3' 'a3,a2' 'a3,a4' 'a1,a4' 'a4,a1' 'a1,a1'\n",
      " 'a2,a4' 'a3,a3' 'a4,a3' 'a2,a1' 'a4,a2' 'a2,a2']\n",
      "Using BFS\n",
      "Starting max is a2,a4\n",
      "Using random BFS\n",
      "['a4,a3' 'a2,a1' 'a3,a1' 'a1,a4' 'a3,a4' 'a2,a3' 'a3,a2' 'a2,a2' 'a3,a3'\n",
      " 'a1,a2' 'a4,a2' 'a1,a3' 'a1,a1' 'a4,a1' 'a4,a4']\n",
      "Using BFS\n",
      "Starting max is a1,a4\n",
      "Using random BFS\n",
      "['a3,a1' 'a2,a4' 'a3,a3' 'a2,a1' 'a4,a3' 'a2,a3' 'a2,a2' 'a4,a1' 'a1,a3'\n",
      " 'a1,a1' 'a4,a4' 'a3,a4' 'a4,a2' 'a1,a2' 'a3,a2']\n",
      "Using BFS\n",
      "Starting max is a3,a3\n",
      "Using random BFS\n",
      "['a2,a3' 'a2,a1' 'a3,a1' 'a1,a4' 'a4,a4' 'a1,a3' 'a2,a4' 'a1,a1' 'a2,a2'\n",
      " 'a4,a3' 'a4,a2' 'a3,a4' 'a4,a1' 'a1,a2' 'a3,a2']\n",
      "Using BFS\n",
      "Starting max is a1,a1\n",
      "Using random BFS\n",
      "['a3,a2' 'a4,a1' 'a2,a2' 'a1,a2' 'a2,a3' 'a3,a1' 'a4,a2' 'a2,a4' 'a1,a4'\n",
      " 'a2,a1' 'a1,a3' 'a4,a3' 'a3,a3' 'a3,a4' 'a4,a4']\n",
      "Using BFS\n",
      "Starting max is a4,a1\n",
      "Using random BFS\n",
      "['a4,a4' 'a1,a1' 'a2,a3' 'a2,a2' 'a3,a4' 'a1,a2' 'a2,a1' 'a4,a2' 'a2,a4'\n",
      " 'a4,a3' 'a3,a3' 'a3,a1' 'a1,a3' 'a1,a4' 'a3,a2']\n",
      "Using BFS\n",
      "Starting max is a1,a4\n",
      "Using random BFS\n",
      "['a2,a3' 'a2,a4' 'a3,a4' 'a4,a4' 'a1,a1' 'a1,a3' 'a2,a1' 'a3,a3' 'a3,a2'\n",
      " 'a4,a2' 'a4,a1' 'a1,a2' 'a3,a1' 'a2,a2' 'a4,a3']\n",
      "Using BFS\n",
      "Starting max is a2,a3\n",
      "Using random BFS\n",
      "['a3,a3' 'a4,a1' 'a2,a2' 'a3,a4' 'a1,a3' 'a1,a2' 'a1,a4' 'a4,a3' 'a1,a1'\n",
      " 'a4,a2' 'a3,a1' 'a2,a4' 'a2,a1' 'a3,a2' 'a4,a4']\n",
      "Distribution of calculated gcat\n",
      "16 :  100.0 %\n",
      "Avg time taken: 5.2386 secs\n"
     ]
    }
   ],
   "source": [
    "X = FE.Build_KleinSquared()\n",
    "\n",
    "experiment(X, spaceName = 'the Klein bottle squared', numRandom = 10, verbose = True)"
   ]
  },
  {
   "cell_type": "markdown",
   "metadata": {},
   "source": [
    "# Minimal Circle"
   ]
  },
  {
   "cell_type": "code",
   "execution_count": 7,
   "metadata": {
    "scrolled": false
   },
   "outputs": [
    {
     "name": "stdout",
     "output_type": "stream",
     "text": [
      "Getting Hasse of {'b', 'a', 'c', 'd'}\n",
      "Trying covers of size 2\n",
      "\tFound cover of size 2\n",
      "\n",
      "The geometric category of the minimal circle is 2\n",
      "Time taken: 0.002 secs\n",
      "\n",
      "Using BFS\n",
      "Starting max is a\n",
      "Using random BFS\n",
      "['b']\n",
      "Using BFS\n",
      "Starting max is b\n",
      "Using random BFS\n",
      "['a']\n",
      "Using BFS\n",
      "Starting max is a\n",
      "Using random BFS\n",
      "['b']\n",
      "Using BFS\n",
      "Starting max is b\n",
      "Using random BFS\n",
      "['a']\n",
      "Using BFS\n",
      "Starting max is a\n",
      "Using random BFS\n",
      "['b']\n",
      "Using BFS\n",
      "Starting max is a\n",
      "Using random BFS\n",
      "['b']\n",
      "Using BFS\n",
      "Starting max is b\n",
      "Using random BFS\n",
      "['a']\n",
      "Using BFS\n",
      "Starting max is b\n",
      "Using random BFS\n",
      "['a']\n",
      "Using BFS\n",
      "Starting max is b\n",
      "Using random BFS\n",
      "['a']\n",
      "Using BFS\n",
      "Starting max is b\n",
      "Using random BFS\n",
      "['a']\n",
      "Distribution of calculated gcat\n",
      "2 :  100.0 %\n",
      "Avg time taken: 0.001 secs\n"
     ]
    }
   ],
   "source": [
    "X = FE.Build_MinCircle()\n",
    "\n",
    "experiment(X, spaceName = 'the minimal circle', numRandom = 10, verbose = True)"
   ]
  },
  {
   "cell_type": "markdown",
   "metadata": {},
   "source": [
    "# Minimal Torus"
   ]
  },
  {
   "cell_type": "code",
   "execution_count": 8,
   "metadata": {
    "scrolled": true
   },
   "outputs": [
    {
     "name": "stdout",
     "output_type": "stream",
     "text": [
      "Getting Hasse of {'b', 'a', 'c', 'd'}\n",
      "Trying covers of size 4\n",
      "\tFound cover of size 4\n",
      "Trying covers of size 3\n",
      "\tNo cover found of size 3 ... exiting.\n",
      "\n",
      "The geometric category of the minimal torus is 4\n",
      "Time taken: 0.009 secs\n",
      "\n",
      "Using BFS\n",
      "Starting max is b,a\n",
      "Using random BFS\n",
      "['a,a' 'b,b' 'a,b']\n",
      "Using BFS\n",
      "Starting max is b,b\n",
      "Using random BFS\n",
      "['a,b' 'b,a' 'a,a']\n",
      "Using BFS\n",
      "Starting max is b,a\n",
      "Using random BFS\n",
      "['b,b' 'a,a' 'a,b']\n",
      "Using BFS\n",
      "Starting max is a,b\n",
      "Using random BFS\n",
      "['a,a' 'b,b' 'b,a']\n",
      "Using BFS\n",
      "Starting max is b,a\n",
      "Using random BFS\n",
      "['a,b' 'a,a' 'b,b']\n",
      "Using BFS\n",
      "Starting max is a,b\n",
      "Using random BFS\n",
      "['a,a' 'b,b' 'b,a']\n",
      "Using BFS\n",
      "Starting max is b,b\n",
      "Using random BFS\n",
      "['a,a' 'a,b' 'b,a']\n",
      "Using BFS\n",
      "Starting max is a,a\n",
      "Using random BFS\n",
      "['b,b' 'a,b' 'b,a']\n",
      "Using BFS\n",
      "Starting max is b,b\n",
      "Using random BFS\n",
      "['a,b' 'b,a' 'a,a']\n",
      "Using BFS\n",
      "Starting max is b,b\n",
      "Using random BFS\n",
      "['a,a' 'a,b' 'b,a']\n",
      "Distribution of calculated gcat\n",
      "4 :  100.0 %\n",
      "Avg time taken: 0.0121 secs\n"
     ]
    }
   ],
   "source": [
    "X = FE.Build_MinTorus()\n",
    "\n",
    "experiment(X, spaceName = 'the minimal torus', numRandom = 10, verbose = True)"
   ]
  },
  {
   "cell_type": "markdown",
   "metadata": {},
   "source": [
    "# Six Circle"
   ]
  },
  {
   "cell_type": "code",
   "execution_count": 9,
   "metadata": {
    "scrolled": true
   },
   "outputs": [
    {
     "name": "stdout",
     "output_type": "stream",
     "text": [
      "Getting Hasse of {'x0', 'x2', 'x1', 'y2', 'y0', 'y1'}\n",
      "Trying covers of size 3\n",
      "\tFound cover of size 3\n",
      "Trying covers of size 2\n",
      "\tFound cover of size 2\n",
      "\n",
      "The geometric category of the minimal torus is 2\n",
      "Time taken: 0.002 secs\n",
      "\n",
      "Using BFS\n",
      "Starting max is y1\n",
      "Using random BFS\n",
      "['y2' 'y0']\n",
      "Using BFS\n",
      "Starting max is y1\n",
      "Using random BFS\n",
      "['y2' 'y0']\n",
      "Using BFS\n",
      "Starting max is y0\n",
      "Using random BFS\n",
      "['y2' 'y1']\n",
      "Using BFS\n",
      "Starting max is y1\n",
      "Using random BFS\n",
      "['y2' 'y0']\n",
      "Using BFS\n",
      "Starting max is y2\n",
      "Using random BFS\n",
      "['y0' 'y1']\n",
      "Using BFS\n",
      "Starting max is y0\n",
      "Using random BFS\n",
      "['y1' 'y2']\n",
      "Using BFS\n",
      "Starting max is y0\n",
      "Using random BFS\n",
      "['y2' 'y1']\n",
      "Using BFS\n",
      "Starting max is y0\n",
      "Using random BFS\n",
      "['y2' 'y1']\n",
      "Using BFS\n",
      "Starting max is y0\n",
      "Using random BFS\n",
      "['y2' 'y1']\n",
      "Using BFS\n",
      "Starting max is y0\n",
      "Using random BFS\n",
      "['y1' 'y2']\n",
      "Distribution of calculated gcat\n",
      "2 :  100.0 %\n",
      "Avg time taken: 0.0015 secs\n"
     ]
    }
   ],
   "source": [
    "X = FE.Build_SixCircle()\n",
    "\n",
    "experiment(X, spaceName = 'the minimal torus', numRandom = 10, verbose = True)"
   ]
  },
  {
   "cell_type": "markdown",
   "metadata": {},
   "source": [
    "# Six Torus "
   ]
  },
  {
   "cell_type": "code",
   "execution_count": 10,
   "metadata": {
    "scrolled": false
   },
   "outputs": [
    {
     "name": "stdout",
     "output_type": "stream",
     "text": [
      "Getting Hasse of {'x0', 'x2', 'x1', 'y2', 'y0', 'y1'}\n",
      "Trying covers of size 9\n",
      "\tFound cover of size 9\n",
      "Trying covers of size 8\n",
      "\tFound cover of size 8\n",
      "Trying covers of size 7\n",
      "\tNo cover found of size 7 ... exiting.\n",
      "\n",
      "The geometric category of the six torus is 8\n",
      "Time taken: 0.0349 secs\n",
      "\n",
      "Using BFS\n",
      "Starting max is y1,y0\n",
      "Using random BFS\n",
      "['y0,y1' 'y1,y2' 'y2,y1' 'y0,y0' 'y2,y0' 'y0,y2' 'y1,y1' 'y2,y2']\n",
      "Using BFS\n",
      "Starting max is y1,y2\n",
      "Using random BFS\n",
      "['y0,y2' 'y2,y1' 'y2,y0' 'y1,y0' 'y0,y0' 'y2,y2' 'y0,y1' 'y1,y1']\n",
      "Using BFS\n",
      "Starting max is y1,y0\n",
      "Using random BFS\n",
      "['y2,y0' 'y2,y2' 'y0,y0' 'y0,y1' 'y1,y1' 'y2,y1' 'y1,y2' 'y0,y2']\n",
      "Using BFS\n",
      "Starting max is y2,y2\n",
      "Using random BFS\n",
      "['y0,y1' 'y0,y2' 'y1,y0' 'y1,y2' 'y2,y1' 'y2,y0' 'y1,y1' 'y0,y0']\n",
      "Using BFS\n",
      "Starting max is y0,y1\n",
      "Using random BFS\n",
      "['y0,y0' 'y1,y0' 'y1,y1' 'y2,y2' 'y1,y2' 'y2,y0' 'y2,y1' 'y0,y2']\n",
      "Using BFS\n",
      "Starting max is y0,y1\n",
      "Using random BFS\n",
      "['y1,y1' 'y2,y2' 'y2,y1' 'y1,y2' 'y0,y2' 'y0,y0' 'y2,y0' 'y1,y0']\n",
      "Using BFS\n",
      "Starting max is y2,y2\n",
      "Using random BFS\n",
      "['y1,y2' 'y2,y1' 'y0,y1' 'y2,y0' 'y1,y1' 'y1,y0' 'y0,y2' 'y0,y0']\n",
      "Using BFS\n",
      "Starting max is y0,y2\n",
      "Using random BFS\n",
      "['y1,y2' 'y2,y1' 'y2,y2' 'y0,y1' 'y2,y0' 'y1,y1' 'y0,y0' 'y1,y0']\n",
      "Using BFS\n",
      "Starting max is y2,y2\n",
      "Using random BFS\n",
      "['y1,y0' 'y2,y1' 'y0,y1' 'y1,y2' 'y2,y0' 'y0,y2' 'y0,y0' 'y1,y1']\n",
      "Using BFS\n",
      "Starting max is y0,y2\n",
      "Using random BFS\n",
      "['y1,y2' 'y2,y0' 'y1,y0' 'y2,y1' 'y2,y2' 'y0,y0' 'y0,y1' 'y1,y1']\n",
      "Distribution of calculated gcat\n",
      "3 :  80.0 %\n",
      "4 :  20.0 %\n",
      "Avg time taken: 0.1066 secs\n"
     ]
    }
   ],
   "source": [
    "X = FE.Build_SixTorus()\n",
    "\n",
    "experiment(X, spaceName = 'the six torus', numRandom = 10, verbose = True)"
   ]
  },
  {
   "cell_type": "markdown",
   "metadata": {},
   "source": [
    "# Ten Circle"
   ]
  },
  {
   "cell_type": "code",
   "execution_count": 11,
   "metadata": {
    "scrolled": true
   },
   "outputs": [
    {
     "name": "stdout",
     "output_type": "stream",
     "text": [
      "Getting Hasse of {'x0', 'x2', 'x1', 'x3', 'x4', 'y2', 'y3', 'y4', 'y0', 'y1'}\n",
      "Trying covers of size 5\n",
      "\tFound cover of size 5\n",
      "Trying covers of size 4\n",
      "\tFound cover of size 4\n",
      "Trying covers of size 3\n",
      "\tFound cover of size 3\n",
      "Trying covers of size 2\n",
      "\tFound cover of size 2\n",
      "\n",
      "The geometric category of the ten circle is 2\n",
      "Time taken: 0.007 secs\n",
      "\n",
      "Using BFS\n",
      "Starting max is y0\n",
      "Using random BFS\n",
      "['y1' 'y4' 'y2' 'y3']\n",
      "Using BFS\n",
      "Starting max is y2\n",
      "Using random BFS\n",
      "['y1' 'y3' 'y4' 'y0']\n",
      "Using BFS\n",
      "Starting max is y1\n",
      "Using random BFS\n",
      "['y2' 'y0' 'y3' 'y4']\n",
      "Using BFS\n",
      "Starting max is y4\n",
      "Using random BFS\n",
      "['y0' 'y3' 'y1' 'y2']\n",
      "Using BFS\n",
      "Starting max is y0\n",
      "Using random BFS\n",
      "['y1' 'y4' 'y2' 'y3']\n",
      "Using BFS\n",
      "Starting max is y1\n",
      "Using random BFS\n",
      "['y0' 'y2' 'y3' 'y4']\n",
      "Using BFS\n",
      "Starting max is y0\n",
      "Using random BFS\n",
      "['y1' 'y4' 'y2' 'y3']\n",
      "Using BFS\n",
      "Starting max is y1\n",
      "Using random BFS\n",
      "['y0' 'y2' 'y4' 'y3']\n",
      "Using BFS\n",
      "Starting max is y4\n",
      "Using random BFS\n",
      "['y3' 'y0' 'y2' 'y1']\n",
      "Using BFS\n",
      "Starting max is y0\n",
      "Using random BFS\n",
      "['y1' 'y4' 'y2' 'y3']\n",
      "Distribution of calculated gcat\n",
      "2 :  100.0 %\n",
      "Avg time taken: 0.0042 secs\n"
     ]
    }
   ],
   "source": [
    "X = FE.Build_TenCircle()\n",
    "\n",
    "experiment(X, spaceName = 'the ten circle', numRandom = 10, verbose = True)"
   ]
  },
  {
   "cell_type": "markdown",
   "metadata": {},
   "source": [
    "# Ten torus"
   ]
  },
  {
   "cell_type": "code",
   "execution_count": 12,
   "metadata": {
    "scrolled": true
   },
   "outputs": [
    {
     "name": "stdout",
     "output_type": "stream",
     "text": [
      "Getting Hasse of {'x0', 'x2', 'x1', 'x3', 'x4', 'y2', 'y3', 'y4', 'y0', 'y1'}\n",
      "Trying covers of size 25\n",
      "\tFound cover of size 25\n",
      "Trying covers of size 24\n",
      "\tNo cover found of size 24 ... exiting.\n",
      "\n",
      "The geometric category of the ten torus is 25\n",
      "Time taken: 0.0409 secs\n",
      "\n",
      "Using BFS\n",
      "Starting max is y0,y3\n",
      "Using random BFS\n",
      "['y0,y2' 'y0,y4' 'y4,y4' 'y1,y2' 'y1,y3' 'y4,y2' 'y1,y4' 'y4,y3' 'y3,y2'\n",
      " 'y0,y0' 'y1,y1' 'y4,y1' 'y2,y3' 'y2,y4' 'y1,y0' 'y3,y1' 'y3,y0' 'y3,y3'\n",
      " 'y3,y4' 'y2,y1' 'y4,y0' 'y2,y2' 'y2,y0' 'y0,y1']\n",
      "Using BFS\n",
      "Starting max is y4,y2\n",
      "Using random BFS\n",
      "['y3,y3' 'y3,y2' 'y0,y2' 'y3,y1' 'y0,y3' 'y0,y1' 'y4,y3' 'y4,y1' 'y2,y4'\n",
      " 'y4,y0' 'y2,y3' 'y1,y4' 'y0,y4' 'y2,y1' 'y0,y0' 'y1,y3' 'y2,y0' 'y3,y4'\n",
      " 'y3,y0' 'y1,y2' 'y1,y0' 'y4,y4' 'y2,y2' 'y1,y1']\n",
      "Using BFS\n",
      "Starting max is y1,y0\n",
      "Using random BFS\n",
      "['y2,y0' 'y2,y4' 'y0,y4' 'y1,y1' 'y1,y4' 'y2,y1' 'y0,y1' 'y0,y0' 'y1,y2'\n",
      " 'y4,y3' 'y0,y3' 'y1,y3' 'y3,y1' 'y3,y3' 'y3,y4' 'y4,y2' 'y0,y2' 'y3,y2'\n",
      " 'y3,y0' 'y4,y1' 'y4,y0' 'y2,y3' 'y2,y2' 'y4,y4']\n",
      "Using BFS\n",
      "Starting max is y4,y4\n",
      "Using random BFS\n",
      "['y3,y4' 'y3,y3' 'y0,y4' 'y0,y0' 'y4,y0' 'y4,y3' 'y0,y3' 'y3,y0' 'y2,y3'\n",
      " 'y3,y1' 'y3,y2' 'y0,y2' 'y1,y4' 'y4,y1' 'y2,y2' 'y1,y1' 'y2,y4' 'y1,y0'\n",
      " 'y2,y1' 'y2,y0' 'y0,y1' 'y1,y3' 'y4,y2' 'y1,y2']\n",
      "Using BFS\n",
      "Starting max is y3,y2\n",
      "Using random BFS\n",
      "['y3,y3' 'y2,y1' 'y3,y1' 'y4,y2' 'y4,y3' 'y2,y3' 'y4,y1' 'y2,y2' 'y1,y0'\n",
      " 'y2,y0' 'y0,y2' 'y1,y2' 'y3,y4' 'y4,y4' 'y1,y1' 'y0,y0' 'y1,y3' 'y3,y0'\n",
      " 'y2,y4' 'y0,y4' 'y1,y4' 'y4,y0' 'y0,y1' 'y0,y3']\n",
      "Using BFS\n",
      "Starting max is y0,y1\n",
      "Using random BFS\n",
      "['y0,y2' 'y4,y0' 'y0,y0' 'y1,y1' 'y4,y2' 'y1,y0' 'y4,y1' 'y1,y2' 'y2,y1'\n",
      " 'y3,y0' 'y1,y3' 'y3,y1' 'y2,y0' 'y2,y3' 'y0,y4' 'y4,y3' 'y1,y4' 'y3,y2'\n",
      " 'y2,y4' 'y3,y4' 'y4,y4' 'y0,y3' 'y2,y2' 'y3,y3']\n",
      "Using BFS\n",
      "Starting max is y3,y2\n",
      "Using random BFS\n",
      "['y3,y3' 'y2,y1' 'y4,y1' 'y4,y2' 'y2,y3' 'y4,y3' 'y2,y2' 'y3,y1' 'y1,y0'\n",
      " 'y2,y4' 'y1,y3' 'y0,y2' 'y2,y0' 'y0,y1' 'y1,y1' 'y4,y4' 'y3,y4' 'y1,y4'\n",
      " 'y3,y0' 'y4,y0' 'y1,y2' 'y0,y4' 'y0,y0' 'y0,y3']\n",
      "Using BFS\n",
      "Starting max is y4,y3\n",
      "Using random BFS\n",
      "['y3,y4' 'y4,y4' 'y3,y2' 'y0,y2' 'y4,y2' 'y0,y3' 'y3,y3' 'y0,y4' 'y4,y0'\n",
      " 'y2,y1' 'y2,y4' 'y3,y1' 'y1,y3' 'y4,y1' 'y0,y0' 'y0,y1' 'y1,y1' 'y2,y3'\n",
      " 'y1,y2' 'y2,y0' 'y1,y4' 'y3,y0' 'y1,y0' 'y2,y2']\n",
      "Using BFS\n",
      "Starting max is y1,y1\n",
      "Using random BFS\n",
      "['y0,y2' 'y2,y1' 'y0,y1' 'y1,y0' 'y1,y2' 'y2,y2' 'y0,y0' 'y2,y0' 'y0,y3'\n",
      " 'y4,y1' 'y4,y3' 'y1,y3' 'y4,y2' 'y3,y1' 'y3,y0' 'y2,y3' 'y4,y4' 'y1,y4'\n",
      " 'y3,y4' 'y0,y4' 'y3,y3' 'y3,y2' 'y2,y4' 'y4,y0']\n",
      "Using BFS\n",
      "Starting max is y0,y2\n",
      "Using random BFS\n",
      "['y4,y2' 'y0,y3' 'y1,y1' 'y4,y3' 'y4,y1' 'y1,y3' 'y0,y1' 'y1,y2' 'y2,y2'\n",
      " 'y4,y4' 'y2,y0' 'y2,y4' 'y1,y4' 'y0,y4' 'y3,y4' 'y3,y0' 'y1,y0' 'y2,y1'\n",
      " 'y3,y2' 'y4,y0' 'y0,y0' 'y3,y1' 'y3,y3' 'y2,y3']\n",
      "Distribution of calculated gcat\n",
      "3 :  100.0 %\n",
      "Avg time taken: 1.6584 secs\n"
     ]
    }
   ],
   "source": [
    "X = FE.Build_TenTorus()\n",
    "\n",
    "experiment(X, spaceName = 'the ten torus', numRandom = 10, verbose = True)"
   ]
  },
  {
   "cell_type": "code",
   "execution_count": null,
   "metadata": {},
   "outputs": [],
   "source": []
  }
 ],
 "metadata": {
  "kernelspec": {
   "display_name": "Python 3",
   "language": "python",
   "name": "python3"
  },
  "language_info": {
   "codemirror_mode": {
    "name": "ipython",
    "version": 3
   },
   "file_extension": ".py",
   "mimetype": "text/x-python",
   "name": "python",
   "nbconvert_exporter": "python",
   "pygments_lexer": "ipython3",
   "version": "3.7.6"
  }
 },
 "nbformat": 4,
 "nbformat_minor": 4
}
